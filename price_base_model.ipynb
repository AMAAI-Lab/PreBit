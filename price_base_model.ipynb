{
  "nbformat": 4,
  "nbformat_minor": 0,
  "metadata": {
    "colab": {
      "name": "price base model",
      "provenance": [],
      "collapsed_sections": [
        "xAFTd8rWLKHt"
      ],
      "toc_visible": true,
      "authorship_tag": "ABX9TyODjbcfnXGgJY+73J6454o8",
      "include_colab_link": true
    },
    "kernelspec": {
      "name": "python3",
      "display_name": "Python 3"
    },
    "accelerator": "GPU"
  },
  "cells": [
    {
      "cell_type": "markdown",
      "metadata": {
        "id": "view-in-github",
        "colab_type": "text"
      },
      "source": [
        "<a href=\"https://colab.research.google.com/github/YanzhaoZ/PreBit/blob/main/price_base_model.ipynb\" target=\"_parent\"><img src=\"https://colab.research.google.com/assets/colab-badge.svg\" alt=\"Open In Colab\"/></a>"
      ]
    },
    {
      "cell_type": "code",
      "metadata": {
        "id": "xCu4r2213B7q",
        "colab": {
          "base_uri": "https://localhost:8080/"
        },
        "outputId": "ed61f64d-70ed-4c0c-dbe6-633514cfa772"
      },
      "source": [
        "from google.colab import drive\n",
        "drive.mount('/content/gdrive')"
      ],
      "execution_count": 4,
      "outputs": [
        {
          "output_type": "stream",
          "text": [
            "Drive already mounted at /content/gdrive; to attempt to forcibly remount, call drive.mount(\"/content/gdrive\", force_remount=True).\n"
          ],
          "name": "stdout"
        }
      ]
    },
    {
      "cell_type": "code",
      "metadata": {
        "id": "lc-7-zJw3Siv",
        "colab": {
          "base_uri": "https://localhost:8080/"
        },
        "outputId": "d8e6bcd9-3c84-4da5-b4da-0258cede34d5"
      },
      "source": [
        "!pip install yfinance\n",
        "import yfinance as yf\n",
        "import pandas as pd\n"
      ],
      "execution_count": 170,
      "outputs": [
        {
          "output_type": "stream",
          "text": [
            "Requirement already satisfied: yfinance in /usr/local/lib/python3.6/dist-packages (0.1.55)\n",
            "Requirement already satisfied: numpy>=1.15 in /usr/local/lib/python3.6/dist-packages (from yfinance) (1.18.5)\n",
            "Requirement already satisfied: multitasking>=0.0.7 in /usr/local/lib/python3.6/dist-packages (from yfinance) (0.0.9)\n",
            "Requirement already satisfied: requests>=2.20 in /usr/local/lib/python3.6/dist-packages (from yfinance) (2.23.0)\n",
            "Requirement already satisfied: lxml>=4.5.1 in /usr/local/lib/python3.6/dist-packages (from yfinance) (4.6.1)\n",
            "Requirement already satisfied: pandas>=0.24 in /usr/local/lib/python3.6/dist-packages (from yfinance) (1.1.4)\n",
            "Requirement already satisfied: urllib3!=1.25.0,!=1.25.1,<1.26,>=1.21.1 in /usr/local/lib/python3.6/dist-packages (from requests>=2.20->yfinance) (1.24.3)\n",
            "Requirement already satisfied: chardet<4,>=3.0.2 in /usr/local/lib/python3.6/dist-packages (from requests>=2.20->yfinance) (3.0.4)\n",
            "Requirement already satisfied: idna<3,>=2.5 in /usr/local/lib/python3.6/dist-packages (from requests>=2.20->yfinance) (2.10)\n",
            "Requirement already satisfied: certifi>=2017.4.17 in /usr/local/lib/python3.6/dist-packages (from requests>=2.20->yfinance) (2020.11.8)\n",
            "Requirement already satisfied: pytz>=2017.2 in /usr/local/lib/python3.6/dist-packages (from pandas>=0.24->yfinance) (2018.9)\n",
            "Requirement already satisfied: python-dateutil>=2.7.3 in /usr/local/lib/python3.6/dist-packages (from pandas>=0.24->yfinance) (2.8.1)\n",
            "Requirement already satisfied: six>=1.5 in /usr/local/lib/python3.6/dist-packages (from python-dateutil>=2.7.3->pandas>=0.24->yfinance) (1.15.0)\n"
          ],
          "name": "stdout"
        }
      ]
    },
    {
      "cell_type": "code",
      "metadata": {
        "id": "5Xma4YZj3tvk"
      },
      "source": [
        "import torch\n",
        "from torch.utils.data import TensorDataset, DataLoader\n",
        "import torch.nn as nn\n",
        "import torch.optim as optim\n",
        "import torch.nn.functional as F\n",
        "\n",
        "import matplotlib.pyplot as plt\n",
        "import time\n",
        "\n",
        "from sklearn.metrics import confusion_matrix\n",
        "from sklearn.preprocessing import MinMaxScaler\n"
      ],
      "execution_count": 229,
      "outputs": []
    },
    {
      "cell_type": "markdown",
      "metadata": {
        "id": "bDVM1wj74Fp5"
      },
      "source": [
        "# Loading the Price Data"
      ]
    },
    {
      "cell_type": "code",
      "metadata": {
        "id": "X3c3XaB84IjI",
        "colab": {
          "base_uri": "https://localhost:8080/"
        },
        "outputId": "9fc22112-ece5-4167-e9a0-19ff093e0bda"
      },
      "source": [
        "start_date ='2015-01-01'\n",
        "end_date = '2019-12-31'\n",
        "price = yf.download(\"BTC-USD\", start=start_date, end=end_date)\n",
        "\n",
        "#relative_price, will calculate the change in % compared to the day before. \n",
        "relative_price = (price/price.shift(1)-1)"
      ],
      "execution_count": 172,
      "outputs": [
        {
          "output_type": "stream",
          "text": [
            "\r[*********************100%***********************]  1 of 1 completed\n"
          ],
          "name": "stdout"
        }
      ]
    },
    {
      "cell_type": "code",
      "metadata": {
        "id": "6sVagzx54SiG",
        "colab": {
          "base_uri": "https://localhost:8080/",
          "height": 235
        },
        "outputId": "cc1d7ee4-3927-441e-8b47-3ec9b4be7180"
      },
      "source": [
        "price.head()"
      ],
      "execution_count": 173,
      "outputs": [
        {
          "output_type": "execute_result",
          "data": {
            "text/html": [
              "<div>\n",
              "<style scoped>\n",
              "    .dataframe tbody tr th:only-of-type {\n",
              "        vertical-align: middle;\n",
              "    }\n",
              "\n",
              "    .dataframe tbody tr th {\n",
              "        vertical-align: top;\n",
              "    }\n",
              "\n",
              "    .dataframe thead th {\n",
              "        text-align: right;\n",
              "    }\n",
              "</style>\n",
              "<table border=\"1\" class=\"dataframe\">\n",
              "  <thead>\n",
              "    <tr style=\"text-align: right;\">\n",
              "      <th></th>\n",
              "      <th>Open</th>\n",
              "      <th>High</th>\n",
              "      <th>Low</th>\n",
              "      <th>Close</th>\n",
              "      <th>Adj Close</th>\n",
              "      <th>Volume</th>\n",
              "    </tr>\n",
              "    <tr>\n",
              "      <th>Date</th>\n",
              "      <th></th>\n",
              "      <th></th>\n",
              "      <th></th>\n",
              "      <th></th>\n",
              "      <th></th>\n",
              "      <th></th>\n",
              "    </tr>\n",
              "  </thead>\n",
              "  <tbody>\n",
              "    <tr>\n",
              "      <th>2015-01-01</th>\n",
              "      <td>320.434998</td>\n",
              "      <td>320.434998</td>\n",
              "      <td>314.002991</td>\n",
              "      <td>314.248993</td>\n",
              "      <td>314.248993</td>\n",
              "      <td>8036550</td>\n",
              "    </tr>\n",
              "    <tr>\n",
              "      <th>2015-01-02</th>\n",
              "      <td>314.079010</td>\n",
              "      <td>315.838989</td>\n",
              "      <td>313.565002</td>\n",
              "      <td>315.032013</td>\n",
              "      <td>315.032013</td>\n",
              "      <td>7860650</td>\n",
              "    </tr>\n",
              "    <tr>\n",
              "      <th>2015-01-03</th>\n",
              "      <td>314.846008</td>\n",
              "      <td>315.149994</td>\n",
              "      <td>281.082001</td>\n",
              "      <td>281.082001</td>\n",
              "      <td>281.082001</td>\n",
              "      <td>33054400</td>\n",
              "    </tr>\n",
              "    <tr>\n",
              "      <th>2015-01-04</th>\n",
              "      <td>281.145996</td>\n",
              "      <td>287.230011</td>\n",
              "      <td>257.612000</td>\n",
              "      <td>264.195007</td>\n",
              "      <td>264.195007</td>\n",
              "      <td>55629100</td>\n",
              "    </tr>\n",
              "    <tr>\n",
              "      <th>2015-01-05</th>\n",
              "      <td>265.084015</td>\n",
              "      <td>278.341003</td>\n",
              "      <td>265.084015</td>\n",
              "      <td>274.473999</td>\n",
              "      <td>274.473999</td>\n",
              "      <td>43962800</td>\n",
              "    </tr>\n",
              "  </tbody>\n",
              "</table>\n",
              "</div>"
            ],
            "text/plain": [
              "                  Open        High  ...   Adj Close    Volume\n",
              "Date                                ...                      \n",
              "2015-01-01  320.434998  320.434998  ...  314.248993   8036550\n",
              "2015-01-02  314.079010  315.838989  ...  315.032013   7860650\n",
              "2015-01-03  314.846008  315.149994  ...  281.082001  33054400\n",
              "2015-01-04  281.145996  287.230011  ...  264.195007  55629100\n",
              "2015-01-05  265.084015  278.341003  ...  274.473999  43962800\n",
              "\n",
              "[5 rows x 6 columns]"
            ]
          },
          "metadata": {
            "tags": []
          },
          "execution_count": 173
        }
      ]
    },
    {
      "cell_type": "code",
      "metadata": {
        "id": "LT3XXVz64TjA",
        "colab": {
          "base_uri": "https://localhost:8080/",
          "height": 235
        },
        "outputId": "5d32ecdb-acc2-4dcc-cc90-0970a3578ca1"
      },
      "source": [
        "relative_price.head()"
      ],
      "execution_count": 174,
      "outputs": [
        {
          "output_type": "execute_result",
          "data": {
            "text/html": [
              "<div>\n",
              "<style scoped>\n",
              "    .dataframe tbody tr th:only-of-type {\n",
              "        vertical-align: middle;\n",
              "    }\n",
              "\n",
              "    .dataframe tbody tr th {\n",
              "        vertical-align: top;\n",
              "    }\n",
              "\n",
              "    .dataframe thead th {\n",
              "        text-align: right;\n",
              "    }\n",
              "</style>\n",
              "<table border=\"1\" class=\"dataframe\">\n",
              "  <thead>\n",
              "    <tr style=\"text-align: right;\">\n",
              "      <th></th>\n",
              "      <th>Open</th>\n",
              "      <th>High</th>\n",
              "      <th>Low</th>\n",
              "      <th>Close</th>\n",
              "      <th>Adj Close</th>\n",
              "      <th>Volume</th>\n",
              "    </tr>\n",
              "    <tr>\n",
              "      <th>Date</th>\n",
              "      <th></th>\n",
              "      <th></th>\n",
              "      <th></th>\n",
              "      <th></th>\n",
              "      <th></th>\n",
              "      <th></th>\n",
              "    </tr>\n",
              "  </thead>\n",
              "  <tbody>\n",
              "    <tr>\n",
              "      <th>2015-01-01</th>\n",
              "      <td>NaN</td>\n",
              "      <td>NaN</td>\n",
              "      <td>NaN</td>\n",
              "      <td>NaN</td>\n",
              "      <td>NaN</td>\n",
              "      <td>NaN</td>\n",
              "    </tr>\n",
              "    <tr>\n",
              "      <th>2015-01-02</th>\n",
              "      <td>-0.019835</td>\n",
              "      <td>-0.014343</td>\n",
              "      <td>-0.001395</td>\n",
              "      <td>0.002492</td>\n",
              "      <td>0.002492</td>\n",
              "      <td>-0.021888</td>\n",
              "    </tr>\n",
              "    <tr>\n",
              "      <th>2015-01-03</th>\n",
              "      <td>0.002442</td>\n",
              "      <td>-0.002181</td>\n",
              "      <td>-0.103593</td>\n",
              "      <td>-0.107767</td>\n",
              "      <td>-0.107767</td>\n",
              "      <td>3.205047</td>\n",
              "    </tr>\n",
              "    <tr>\n",
              "      <th>2015-01-04</th>\n",
              "      <td>-0.107036</td>\n",
              "      <td>-0.088593</td>\n",
              "      <td>-0.083499</td>\n",
              "      <td>-0.060079</td>\n",
              "      <td>-0.060079</td>\n",
              "      <td>0.682956</td>\n",
              "    </tr>\n",
              "    <tr>\n",
              "      <th>2015-01-05</th>\n",
              "      <td>-0.057130</td>\n",
              "      <td>-0.030947</td>\n",
              "      <td>0.029005</td>\n",
              "      <td>0.038907</td>\n",
              "      <td>0.038907</td>\n",
              "      <td>-0.209716</td>\n",
              "    </tr>\n",
              "  </tbody>\n",
              "</table>\n",
              "</div>"
            ],
            "text/plain": [
              "                Open      High       Low     Close  Adj Close    Volume\n",
              "Date                                                                   \n",
              "2015-01-01       NaN       NaN       NaN       NaN        NaN       NaN\n",
              "2015-01-02 -0.019835 -0.014343 -0.001395  0.002492   0.002492 -0.021888\n",
              "2015-01-03  0.002442 -0.002181 -0.103593 -0.107767  -0.107767  3.205047\n",
              "2015-01-04 -0.107036 -0.088593 -0.083499 -0.060079  -0.060079  0.682956\n",
              "2015-01-05 -0.057130 -0.030947  0.029005  0.038907   0.038907 -0.209716"
            ]
          },
          "metadata": {
            "tags": []
          },
          "execution_count": 174
        }
      ]
    },
    {
      "cell_type": "code",
      "metadata": {
        "id": "HVFcYkrn8V6J"
      },
      "source": [
        "#add in the label\n",
        "#I can start with the % change of the daily closing price, then create labels.\n",
        "#another way could be to look at the next day High vs today Close.  \n",
        "price_2= price.Close.to_frame()\n",
        "price['change']=price_2.apply(lambda x: x.shift(-1)/x -1)\n",
        "price['change_label']=price['change'].apply (lambda x: x>0 )\n",
        "#NaN > 0 gives false? Perhaps I could drop na before this step? \n",
        "\n",
        "\n",
        "#copy the label to relative_price part as well. \n",
        "relative_price['change'] = price['change']\n",
        "relative_price['change_label']=price['change_label']"
      ],
      "execution_count": 175,
      "outputs": []
    },
    {
      "cell_type": "code",
      "metadata": {
        "id": "DsjYzgecBezO",
        "colab": {
          "base_uri": "https://localhost:8080/"
        },
        "outputId": "6f8f5698-e8e2-4b12-8dc5-a4e0b1d4d36d"
      },
      "source": [
        "print (len(price),len(relative_price))"
      ],
      "execution_count": 176,
      "outputs": [
        {
          "output_type": "stream",
          "text": [
            "1826 1826\n"
          ],
          "name": "stdout"
        }
      ]
    },
    {
      "cell_type": "code",
      "metadata": {
        "id": "JUHGLoLbAaRo"
      },
      "source": [
        "price = price.dropna()\n",
        "relative_price = relative_price.dropna()"
      ],
      "execution_count": 177,
      "outputs": []
    },
    {
      "cell_type": "code",
      "metadata": {
        "id": "LIfAXYnnAfNC",
        "colab": {
          "base_uri": "https://localhost:8080/"
        },
        "outputId": "64431671-1766-4e76-b845-e11a1750a3dc"
      },
      "source": [
        "#price would lose the last day, because no information on next day price to create the label\n",
        "#relative price, would ALSO lose the first day, because no information to calculate the relative changes .\n",
        "print (len(price),len(relative_price))"
      ],
      "execution_count": 178,
      "outputs": [
        {
          "output_type": "stream",
          "text": [
            "1825 1824\n"
          ],
          "name": "stdout"
        }
      ]
    },
    {
      "cell_type": "code",
      "metadata": {
        "id": "kXbYBnlUIsnK",
        "colab": {
          "base_uri": "https://localhost:8080/",
          "height": 297
        },
        "outputId": "bd5a6b76-b322-432b-cae6-f098ad643a25"
      },
      "source": [
        "relative_price[5:12]"
      ],
      "execution_count": 179,
      "outputs": [
        {
          "output_type": "execute_result",
          "data": {
            "text/html": [
              "<div>\n",
              "<style scoped>\n",
              "    .dataframe tbody tr th:only-of-type {\n",
              "        vertical-align: middle;\n",
              "    }\n",
              "\n",
              "    .dataframe tbody tr th {\n",
              "        vertical-align: top;\n",
              "    }\n",
              "\n",
              "    .dataframe thead th {\n",
              "        text-align: right;\n",
              "    }\n",
              "</style>\n",
              "<table border=\"1\" class=\"dataframe\">\n",
              "  <thead>\n",
              "    <tr style=\"text-align: right;\">\n",
              "      <th></th>\n",
              "      <th>Open</th>\n",
              "      <th>High</th>\n",
              "      <th>Low</th>\n",
              "      <th>Close</th>\n",
              "      <th>Adj Close</th>\n",
              "      <th>Volume</th>\n",
              "      <th>change</th>\n",
              "      <th>change_label</th>\n",
              "    </tr>\n",
              "    <tr>\n",
              "      <th>Date</th>\n",
              "      <th></th>\n",
              "      <th></th>\n",
              "      <th></th>\n",
              "      <th></th>\n",
              "      <th></th>\n",
              "      <th></th>\n",
              "      <th></th>\n",
              "      <th></th>\n",
              "    </tr>\n",
              "  </thead>\n",
              "  <tbody>\n",
              "    <tr>\n",
              "      <th>2015-01-07</th>\n",
              "      <td>0.041754</td>\n",
              "      <td>0.038953</td>\n",
              "      <td>0.038075</td>\n",
              "      <td>0.028471</td>\n",
              "      <td>0.028471</td>\n",
              "      <td>0.069738</td>\n",
              "      <td>-0.037331</td>\n",
              "      <td>False</td>\n",
              "    </tr>\n",
              "    <tr>\n",
              "      <th>2015-01-08</th>\n",
              "      <td>0.028167</td>\n",
              "      <td>-0.015461</td>\n",
              "      <td>-0.003194</td>\n",
              "      <td>-0.037331</td>\n",
              "      <td>-0.037331</td>\n",
              "      <td>-0.196419</td>\n",
              "      <td>0.024913</td>\n",
              "      <td>True</td>\n",
              "    </tr>\n",
              "    <tr>\n",
              "      <th>2015-01-09</th>\n",
              "      <td>-0.039954</td>\n",
              "      <td>-0.010271</td>\n",
              "      <td>-0.005819</td>\n",
              "      <td>0.024913</td>\n",
              "      <td>0.024913</td>\n",
              "      <td>-0.063250</td>\n",
              "      <td>-0.053759</td>\n",
              "      <td>False</td>\n",
              "    </tr>\n",
              "    <tr>\n",
              "      <th>2015-01-10</th>\n",
              "      <td>0.017423</td>\n",
              "      <td>-0.010261</td>\n",
              "      <td>-0.023409</td>\n",
              "      <td>-0.053759</td>\n",
              "      <td>-0.053759</td>\n",
              "      <td>-0.184538</td>\n",
              "      <td>-0.033246</td>\n",
              "      <td>False</td>\n",
              "    </tr>\n",
              "    <tr>\n",
              "      <th>2015-01-11</th>\n",
              "      <td>-0.044187</td>\n",
              "      <td>-0.029463</td>\n",
              "      <td>-0.032584</td>\n",
              "      <td>-0.033246</td>\n",
              "      <td>-0.033246</td>\n",
              "      <td>0.192377</td>\n",
              "      <td>0.008040</td>\n",
              "      <td>True</td>\n",
              "    </tr>\n",
              "    <tr>\n",
              "      <th>2015-01-12</th>\n",
              "      <td>-0.030815</td>\n",
              "      <td>-0.026588</td>\n",
              "      <td>0.000607</td>\n",
              "      <td>0.008040</td>\n",
              "      <td>0.008040</td>\n",
              "      <td>0.037334</td>\n",
              "      <td>-0.156593</td>\n",
              "      <td>False</td>\n",
              "    </tr>\n",
              "    <tr>\n",
              "      <th>2015-01-13</th>\n",
              "      <td>0.004689</td>\n",
              "      <td>-0.014423</td>\n",
              "      <td>-0.170792</td>\n",
              "      <td>-0.156593</td>\n",
              "      <td>-0.156593</td>\n",
              "      <td>2.858196</td>\n",
              "      <td>-0.211449</td>\n",
              "      <td>False</td>\n",
              "    </tr>\n",
              "  </tbody>\n",
              "</table>\n",
              "</div>"
            ],
            "text/plain": [
              "                Open      High       Low  ...    Volume    change  change_label\n",
              "Date                                      ...                                  \n",
              "2015-01-07  0.041754  0.038953  0.038075  ...  0.069738 -0.037331         False\n",
              "2015-01-08  0.028167 -0.015461 -0.003194  ... -0.196419  0.024913          True\n",
              "2015-01-09 -0.039954 -0.010271 -0.005819  ... -0.063250 -0.053759         False\n",
              "2015-01-10  0.017423 -0.010261 -0.023409  ... -0.184538 -0.033246         False\n",
              "2015-01-11 -0.044187 -0.029463 -0.032584  ...  0.192377  0.008040          True\n",
              "2015-01-12 -0.030815 -0.026588  0.000607  ...  0.037334 -0.156593         False\n",
              "2015-01-13  0.004689 -0.014423 -0.170792  ...  2.858196 -0.211449         False\n",
              "\n",
              "[7 rows x 8 columns]"
            ]
          },
          "metadata": {
            "tags": []
          },
          "execution_count": 179
        }
      ]
    },
    {
      "cell_type": "code",
      "metadata": {
        "colab": {
          "base_uri": "https://localhost:8080/"
        },
        "id": "liUvoa7Gis8a",
        "outputId": "315d480c-0884-4633-cf6f-7f5233b242e1"
      },
      "source": [
        "relative_price['change_label'].value_counts()"
      ],
      "execution_count": 180,
      "outputs": [
        {
          "output_type": "execute_result",
          "data": {
            "text/plain": [
              "True     1000\n",
              "False     824\n",
              "Name: change_label, dtype: int64"
            ]
          },
          "metadata": {
            "tags": []
          },
          "execution_count": 180
        }
      ]
    },
    {
      "cell_type": "markdown",
      "metadata": {
        "id": "WYalG82ITOko"
      },
      "source": [
        "# Adding in technical indicators"
      ]
    },
    {
      "cell_type": "code",
      "metadata": {
        "colab": {
          "base_uri": "https://localhost:8080/",
          "height": 235
        },
        "id": "mKb2fzbvTbQn",
        "outputId": "28c8ea50-4af7-4906-e226-618101a68953"
      },
      "source": [
        "price.head()"
      ],
      "execution_count": 181,
      "outputs": [
        {
          "output_type": "execute_result",
          "data": {
            "text/html": [
              "<div>\n",
              "<style scoped>\n",
              "    .dataframe tbody tr th:only-of-type {\n",
              "        vertical-align: middle;\n",
              "    }\n",
              "\n",
              "    .dataframe tbody tr th {\n",
              "        vertical-align: top;\n",
              "    }\n",
              "\n",
              "    .dataframe thead th {\n",
              "        text-align: right;\n",
              "    }\n",
              "</style>\n",
              "<table border=\"1\" class=\"dataframe\">\n",
              "  <thead>\n",
              "    <tr style=\"text-align: right;\">\n",
              "      <th></th>\n",
              "      <th>Open</th>\n",
              "      <th>High</th>\n",
              "      <th>Low</th>\n",
              "      <th>Close</th>\n",
              "      <th>Adj Close</th>\n",
              "      <th>Volume</th>\n",
              "      <th>change</th>\n",
              "      <th>change_label</th>\n",
              "    </tr>\n",
              "    <tr>\n",
              "      <th>Date</th>\n",
              "      <th></th>\n",
              "      <th></th>\n",
              "      <th></th>\n",
              "      <th></th>\n",
              "      <th></th>\n",
              "      <th></th>\n",
              "      <th></th>\n",
              "      <th></th>\n",
              "    </tr>\n",
              "  </thead>\n",
              "  <tbody>\n",
              "    <tr>\n",
              "      <th>2015-01-01</th>\n",
              "      <td>320.434998</td>\n",
              "      <td>320.434998</td>\n",
              "      <td>314.002991</td>\n",
              "      <td>314.248993</td>\n",
              "      <td>314.248993</td>\n",
              "      <td>8036550</td>\n",
              "      <td>0.002492</td>\n",
              "      <td>True</td>\n",
              "    </tr>\n",
              "    <tr>\n",
              "      <th>2015-01-02</th>\n",
              "      <td>314.079010</td>\n",
              "      <td>315.838989</td>\n",
              "      <td>313.565002</td>\n",
              "      <td>315.032013</td>\n",
              "      <td>315.032013</td>\n",
              "      <td>7860650</td>\n",
              "      <td>-0.107767</td>\n",
              "      <td>False</td>\n",
              "    </tr>\n",
              "    <tr>\n",
              "      <th>2015-01-03</th>\n",
              "      <td>314.846008</td>\n",
              "      <td>315.149994</td>\n",
              "      <td>281.082001</td>\n",
              "      <td>281.082001</td>\n",
              "      <td>281.082001</td>\n",
              "      <td>33054400</td>\n",
              "      <td>-0.060079</td>\n",
              "      <td>False</td>\n",
              "    </tr>\n",
              "    <tr>\n",
              "      <th>2015-01-04</th>\n",
              "      <td>281.145996</td>\n",
              "      <td>287.230011</td>\n",
              "      <td>257.612000</td>\n",
              "      <td>264.195007</td>\n",
              "      <td>264.195007</td>\n",
              "      <td>55629100</td>\n",
              "      <td>0.038907</td>\n",
              "      <td>True</td>\n",
              "    </tr>\n",
              "    <tr>\n",
              "      <th>2015-01-05</th>\n",
              "      <td>265.084015</td>\n",
              "      <td>278.341003</td>\n",
              "      <td>265.084015</td>\n",
              "      <td>274.473999</td>\n",
              "      <td>274.473999</td>\n",
              "      <td>43962800</td>\n",
              "      <td>0.042682</td>\n",
              "      <td>True</td>\n",
              "    </tr>\n",
              "  </tbody>\n",
              "</table>\n",
              "</div>"
            ],
            "text/plain": [
              "                  Open        High  ...    change  change_label\n",
              "Date                                ...                        \n",
              "2015-01-01  320.434998  320.434998  ...  0.002492          True\n",
              "2015-01-02  314.079010  315.838989  ... -0.107767         False\n",
              "2015-01-03  314.846008  315.149994  ... -0.060079         False\n",
              "2015-01-04  281.145996  287.230011  ...  0.038907          True\n",
              "2015-01-05  265.084015  278.341003  ...  0.042682          True\n",
              "\n",
              "[5 rows x 8 columns]"
            ]
          },
          "metadata": {
            "tags": []
          },
          "execution_count": 181
        }
      ]
    },
    {
      "cell_type": "code",
      "metadata": {
        "id": "WDgrd_QYTfDb"
      },
      "source": [
        "def get_technical_indicators(dataset):\n",
        "    # Create 7 and 21 days Moving Average\n",
        "    dataset['ma7'] = dataset['Close'].rolling(window=7).mean()\n",
        "    dataset['ma21'] = dataset['Close'].rolling(window=21).mean()\n",
        "    \n",
        "    # Create MACD\n",
        "    #dataset['26ema'] = pd.ewma(dataset['Close'], span=26)\n",
        "    dataset['26ema'] = dataset['Close'].ewm(span=26).mean()\n",
        "    #dataset['12ema'] = pd.ewma(dataset['Close'], span=12)\n",
        "    dataset['12ema'] = dataset['Close'].ewm(span=12).mean()\n",
        "    dataset['MACD'] = (dataset['12ema']-dataset['26ema'])\n",
        "\n",
        "    # Create Bollinger Bands\n",
        "    #dataset['20sd'] = pd.stats.moments.rolling_std(dataset['Close'],20)\n",
        "    dataset['20sd'] = dataset[\"Close\"].rolling(window=20).std()\n",
        "    dataset['upper_band'] = dataset['ma21'] + (dataset['20sd']*2)\n",
        "    dataset['lower_band'] = dataset['ma21'] - (dataset['20sd']*2)\n",
        "    \n",
        "    # Create Exponential moving average\n",
        "    dataset['ema'] = dataset['Close'].ewm(com=0.5).mean()\n",
        "    \n",
        "    # Create Momentum\n",
        "    #dataset['momentum'] = dataset['Close']-1\n",
        "    \n",
        "    return dataset"
      ],
      "execution_count": 182,
      "outputs": []
    },
    {
      "cell_type": "code",
      "metadata": {
        "id": "9ZjmUCbWTe5b"
      },
      "source": [
        "test_df = pd.DataFrame({'B':[1,2,3,4,5,6,7]})"
      ],
      "execution_count": 183,
      "outputs": []
    },
    {
      "cell_type": "code",
      "metadata": {
        "colab": {
          "base_uri": "https://localhost:8080/",
          "height": 37
        },
        "id": "az-2NPXhZRx1",
        "outputId": "42153497-8ea8-4e6c-b0c6-db10f26864a0"
      },
      "source": [
        "pd.__version__"
      ],
      "execution_count": 184,
      "outputs": [
        {
          "output_type": "execute_result",
          "data": {
            "application/vnd.google.colaboratory.intrinsic+json": {
              "type": "string"
            },
            "text/plain": [
              "'1.1.4'"
            ]
          },
          "metadata": {
            "tags": []
          },
          "execution_count": 184
        }
      ]
    },
    {
      "cell_type": "code",
      "metadata": {
        "id": "IScz7sVyTesK",
        "colab": {
          "base_uri": "https://localhost:8080/"
        },
        "outputId": "5f65bb78-abf8-48c0-fe24-f5b460065f9a"
      },
      "source": [
        "price_processed = get_technical_indicators(price)\n",
        "#price.head()"
      ],
      "execution_count": 185,
      "outputs": [
        {
          "output_type": "stream",
          "text": [
            "/usr/local/lib/python3.6/dist-packages/ipykernel_launcher.py:3: SettingWithCopyWarning: \n",
            "A value is trying to be set on a copy of a slice from a DataFrame.\n",
            "Try using .loc[row_indexer,col_indexer] = value instead\n",
            "\n",
            "See the caveats in the documentation: https://pandas.pydata.org/pandas-docs/stable/user_guide/indexing.html#returning-a-view-versus-a-copy\n",
            "  This is separate from the ipykernel package so we can avoid doing imports until\n",
            "/usr/local/lib/python3.6/dist-packages/ipykernel_launcher.py:4: SettingWithCopyWarning: \n",
            "A value is trying to be set on a copy of a slice from a DataFrame.\n",
            "Try using .loc[row_indexer,col_indexer] = value instead\n",
            "\n",
            "See the caveats in the documentation: https://pandas.pydata.org/pandas-docs/stable/user_guide/indexing.html#returning-a-view-versus-a-copy\n",
            "  after removing the cwd from sys.path.\n",
            "/usr/local/lib/python3.6/dist-packages/ipykernel_launcher.py:8: SettingWithCopyWarning: \n",
            "A value is trying to be set on a copy of a slice from a DataFrame.\n",
            "Try using .loc[row_indexer,col_indexer] = value instead\n",
            "\n",
            "See the caveats in the documentation: https://pandas.pydata.org/pandas-docs/stable/user_guide/indexing.html#returning-a-view-versus-a-copy\n",
            "  \n",
            "/usr/local/lib/python3.6/dist-packages/ipykernel_launcher.py:10: SettingWithCopyWarning: \n",
            "A value is trying to be set on a copy of a slice from a DataFrame.\n",
            "Try using .loc[row_indexer,col_indexer] = value instead\n",
            "\n",
            "See the caveats in the documentation: https://pandas.pydata.org/pandas-docs/stable/user_guide/indexing.html#returning-a-view-versus-a-copy\n",
            "  # Remove the CWD from sys.path while we load stuff.\n",
            "/usr/local/lib/python3.6/dist-packages/ipykernel_launcher.py:11: SettingWithCopyWarning: \n",
            "A value is trying to be set on a copy of a slice from a DataFrame.\n",
            "Try using .loc[row_indexer,col_indexer] = value instead\n",
            "\n",
            "See the caveats in the documentation: https://pandas.pydata.org/pandas-docs/stable/user_guide/indexing.html#returning-a-view-versus-a-copy\n",
            "  # This is added back by InteractiveShellApp.init_path()\n",
            "/usr/local/lib/python3.6/dist-packages/ipykernel_launcher.py:15: SettingWithCopyWarning: \n",
            "A value is trying to be set on a copy of a slice from a DataFrame.\n",
            "Try using .loc[row_indexer,col_indexer] = value instead\n",
            "\n",
            "See the caveats in the documentation: https://pandas.pydata.org/pandas-docs/stable/user_guide/indexing.html#returning-a-view-versus-a-copy\n",
            "  from ipykernel import kernelapp as app\n",
            "/usr/local/lib/python3.6/dist-packages/ipykernel_launcher.py:16: SettingWithCopyWarning: \n",
            "A value is trying to be set on a copy of a slice from a DataFrame.\n",
            "Try using .loc[row_indexer,col_indexer] = value instead\n",
            "\n",
            "See the caveats in the documentation: https://pandas.pydata.org/pandas-docs/stable/user_guide/indexing.html#returning-a-view-versus-a-copy\n",
            "  app.launch_new_instance()\n",
            "/usr/local/lib/python3.6/dist-packages/ipykernel_launcher.py:17: SettingWithCopyWarning: \n",
            "A value is trying to be set on a copy of a slice from a DataFrame.\n",
            "Try using .loc[row_indexer,col_indexer] = value instead\n",
            "\n",
            "See the caveats in the documentation: https://pandas.pydata.org/pandas-docs/stable/user_guide/indexing.html#returning-a-view-versus-a-copy\n",
            "/usr/local/lib/python3.6/dist-packages/ipykernel_launcher.py:20: SettingWithCopyWarning: \n",
            "A value is trying to be set on a copy of a slice from a DataFrame.\n",
            "Try using .loc[row_indexer,col_indexer] = value instead\n",
            "\n",
            "See the caveats in the documentation: https://pandas.pydata.org/pandas-docs/stable/user_guide/indexing.html#returning-a-view-versus-a-copy\n"
          ],
          "name": "stderr"
        }
      ]
    },
    {
      "cell_type": "code",
      "metadata": {
        "colab": {
          "base_uri": "https://localhost:8080/",
          "height": 345
        },
        "id": "dn7FwTfraQGt",
        "outputId": "2846c19c-05c7-4f7b-cfa0-0585337bcfce"
      },
      "source": [
        "price_processed.tail()"
      ],
      "execution_count": 186,
      "outputs": [
        {
          "output_type": "execute_result",
          "data": {
            "text/html": [
              "<div>\n",
              "<style scoped>\n",
              "    .dataframe tbody tr th:only-of-type {\n",
              "        vertical-align: middle;\n",
              "    }\n",
              "\n",
              "    .dataframe tbody tr th {\n",
              "        vertical-align: top;\n",
              "    }\n",
              "\n",
              "    .dataframe thead th {\n",
              "        text-align: right;\n",
              "    }\n",
              "</style>\n",
              "<table border=\"1\" class=\"dataframe\">\n",
              "  <thead>\n",
              "    <tr style=\"text-align: right;\">\n",
              "      <th></th>\n",
              "      <th>Open</th>\n",
              "      <th>High</th>\n",
              "      <th>Low</th>\n",
              "      <th>Close</th>\n",
              "      <th>Adj Close</th>\n",
              "      <th>Volume</th>\n",
              "      <th>change</th>\n",
              "      <th>change_label</th>\n",
              "      <th>ma7</th>\n",
              "      <th>ma21</th>\n",
              "      <th>26ema</th>\n",
              "      <th>12ema</th>\n",
              "      <th>MACD</th>\n",
              "      <th>20sd</th>\n",
              "      <th>upper_band</th>\n",
              "      <th>lower_band</th>\n",
              "      <th>ema</th>\n",
              "    </tr>\n",
              "    <tr>\n",
              "      <th>Date</th>\n",
              "      <th></th>\n",
              "      <th></th>\n",
              "      <th></th>\n",
              "      <th></th>\n",
              "      <th></th>\n",
              "      <th></th>\n",
              "      <th></th>\n",
              "      <th></th>\n",
              "      <th></th>\n",
              "      <th></th>\n",
              "      <th></th>\n",
              "      <th></th>\n",
              "      <th></th>\n",
              "      <th></th>\n",
              "      <th></th>\n",
              "      <th></th>\n",
              "      <th></th>\n",
              "    </tr>\n",
              "  </thead>\n",
              "  <tbody>\n",
              "    <tr>\n",
              "      <th>2019-12-26</th>\n",
              "      <td>7274.799316</td>\n",
              "      <td>7388.302734</td>\n",
              "      <td>7200.386719</td>\n",
              "      <td>7238.966797</td>\n",
              "      <td>7238.966797</td>\n",
              "      <td>22787010034</td>\n",
              "      <td>0.007062</td>\n",
              "      <td>True</td>\n",
              "      <td>7301.978167</td>\n",
              "      <td>7262.871908</td>\n",
              "      <td>7358.836553</td>\n",
              "      <td>7262.697426</td>\n",
              "      <td>-96.139127</td>\n",
              "      <td>206.236480</td>\n",
              "      <td>7675.344867</td>\n",
              "      <td>6850.398948</td>\n",
              "      <td>7258.142218</td>\n",
              "    </tr>\n",
              "    <tr>\n",
              "      <th>2019-12-27</th>\n",
              "      <td>7238.141113</td>\n",
              "      <td>7363.529297</td>\n",
              "      <td>7189.934082</td>\n",
              "      <td>7290.088379</td>\n",
              "      <td>7290.088379</td>\n",
              "      <td>22777360995</td>\n",
              "      <td>0.003827</td>\n",
              "      <td>True</td>\n",
              "      <td>7312.159877</td>\n",
              "      <td>7250.638184</td>\n",
              "      <td>7353.744096</td>\n",
              "      <td>7266.911419</td>\n",
              "      <td>-86.832677</td>\n",
              "      <td>193.541738</td>\n",
              "      <td>7637.721659</td>\n",
              "      <td>6863.554708</td>\n",
              "      <td>7279.439659</td>\n",
              "    </tr>\n",
              "    <tr>\n",
              "      <th>2019-12-28</th>\n",
              "      <td>7289.031250</td>\n",
              "      <td>7399.041016</td>\n",
              "      <td>7286.905273</td>\n",
              "      <td>7317.990234</td>\n",
              "      <td>7317.990234</td>\n",
              "      <td>21365673026</td>\n",
              "      <td>0.014302</td>\n",
              "      <td>True</td>\n",
              "      <td>7330.278669</td>\n",
              "      <td>7239.293062</td>\n",
              "      <td>7351.095662</td>\n",
              "      <td>7274.769698</td>\n",
              "      <td>-76.325964</td>\n",
              "      <td>178.778125</td>\n",
              "      <td>7596.849312</td>\n",
              "      <td>6881.736812</td>\n",
              "      <td>7305.140042</td>\n",
              "    </tr>\n",
              "    <tr>\n",
              "      <th>2019-12-29</th>\n",
              "      <td>7317.647461</td>\n",
              "      <td>7513.948242</td>\n",
              "      <td>7279.865234</td>\n",
              "      <td>7422.652832</td>\n",
              "      <td>7422.652832</td>\n",
              "      <td>22445257701</td>\n",
              "      <td>-0.017468</td>\n",
              "      <td>False</td>\n",
              "      <td>7317.573521</td>\n",
              "      <td>7232.545805</td>\n",
              "      <td>7356.396193</td>\n",
              "      <td>7297.520949</td>\n",
              "      <td>-58.875243</td>\n",
              "      <td>179.979293</td>\n",
              "      <td>7592.504391</td>\n",
              "      <td>6872.587219</td>\n",
              "      <td>7383.481902</td>\n",
              "    </tr>\n",
              "    <tr>\n",
              "      <th>2019-12-30</th>\n",
              "      <td>7420.272949</td>\n",
              "      <td>7454.824219</td>\n",
              "      <td>7276.308105</td>\n",
              "      <td>7292.995117</td>\n",
              "      <td>7292.995117</td>\n",
              "      <td>22874131671</td>\n",
              "      <td>-0.013629</td>\n",
              "      <td>False</td>\n",
              "      <td>7308.625907</td>\n",
              "      <td>7227.407506</td>\n",
              "      <td>7351.699817</td>\n",
              "      <td>7296.824667</td>\n",
              "      <td>-54.875149</td>\n",
              "      <td>180.244700</td>\n",
              "      <td>7587.896906</td>\n",
              "      <td>6866.918105</td>\n",
              "      <td>7323.157379</td>\n",
              "    </tr>\n",
              "  </tbody>\n",
              "</table>\n",
              "</div>"
            ],
            "text/plain": [
              "                   Open         High  ...   lower_band          ema\n",
              "Date                                  ...                          \n",
              "2019-12-26  7274.799316  7388.302734  ...  6850.398948  7258.142218\n",
              "2019-12-27  7238.141113  7363.529297  ...  6863.554708  7279.439659\n",
              "2019-12-28  7289.031250  7399.041016  ...  6881.736812  7305.140042\n",
              "2019-12-29  7317.647461  7513.948242  ...  6872.587219  7383.481902\n",
              "2019-12-30  7420.272949  7454.824219  ...  6866.918105  7323.157379\n",
              "\n",
              "[5 rows x 17 columns]"
            ]
          },
          "metadata": {
            "tags": []
          },
          "execution_count": 186
        }
      ]
    },
    {
      "cell_type": "code",
      "metadata": {
        "colab": {
          "base_uri": "https://localhost:8080/"
        },
        "id": "W9O4ZSa0djOy",
        "outputId": "b910f36e-1bb4-4d8e-d7db-5d02e99228c1"
      },
      "source": [
        "price_processed = price_processed.dropna()\n",
        "price_processed.isnull().value_counts()"
      ],
      "execution_count": 187,
      "outputs": [
        {
          "output_type": "execute_result",
          "data": {
            "text/plain": [
              "Open   High   Low    Close  Adj Close  Volume  change  change_label  ma7    ma21   26ema  12ema  MACD   20sd   upper_band  lower_band  ema  \n",
              "False  False  False  False  False      False   False   False         False  False  False  False  False  False  False       False       False    1805\n",
              "dtype: int64"
            ]
          },
          "metadata": {
            "tags": []
          },
          "execution_count": 187
        }
      ]
    },
    {
      "cell_type": "code",
      "metadata": {
        "colab": {
          "base_uri": "https://localhost:8080/",
          "height": 362
        },
        "id": "ytSx4T9xkIRU",
        "outputId": "7d1e9693-2a7e-4d8d-d072-1304cad41b21"
      },
      "source": [
        "price_processed.head()\n",
        "#although I'm not very sure about how 26ema can be calculated when I don't have 26 days of data before this day ? \n",
        "#and ema, with this particular set up, seems a bit off? : https://stackoverflow.com/questions/37924377/does-pandas-calculate-ewm-wrong\n",
        "#the link above provides an alternate view, but I think with the amount of days I have, it shouldn't really matter that much. \n",
        "#Let's keep going w/o it first. "
      ],
      "execution_count": 188,
      "outputs": [
        {
          "output_type": "execute_result",
          "data": {
            "text/html": [
              "<div>\n",
              "<style scoped>\n",
              "    .dataframe tbody tr th:only-of-type {\n",
              "        vertical-align: middle;\n",
              "    }\n",
              "\n",
              "    .dataframe tbody tr th {\n",
              "        vertical-align: top;\n",
              "    }\n",
              "\n",
              "    .dataframe thead th {\n",
              "        text-align: right;\n",
              "    }\n",
              "</style>\n",
              "<table border=\"1\" class=\"dataframe\">\n",
              "  <thead>\n",
              "    <tr style=\"text-align: right;\">\n",
              "      <th></th>\n",
              "      <th>Open</th>\n",
              "      <th>High</th>\n",
              "      <th>Low</th>\n",
              "      <th>Close</th>\n",
              "      <th>Adj Close</th>\n",
              "      <th>Volume</th>\n",
              "      <th>change</th>\n",
              "      <th>change_label</th>\n",
              "      <th>ma7</th>\n",
              "      <th>ma21</th>\n",
              "      <th>26ema</th>\n",
              "      <th>12ema</th>\n",
              "      <th>MACD</th>\n",
              "      <th>20sd</th>\n",
              "      <th>upper_band</th>\n",
              "      <th>lower_band</th>\n",
              "      <th>ema</th>\n",
              "    </tr>\n",
              "    <tr>\n",
              "      <th>Date</th>\n",
              "      <th></th>\n",
              "      <th></th>\n",
              "      <th></th>\n",
              "      <th></th>\n",
              "      <th></th>\n",
              "      <th></th>\n",
              "      <th></th>\n",
              "      <th></th>\n",
              "      <th></th>\n",
              "      <th></th>\n",
              "      <th></th>\n",
              "      <th></th>\n",
              "      <th></th>\n",
              "      <th></th>\n",
              "      <th></th>\n",
              "      <th></th>\n",
              "      <th></th>\n",
              "    </tr>\n",
              "  </thead>\n",
              "  <tbody>\n",
              "    <tr>\n",
              "      <th>2015-01-21</th>\n",
              "      <td>211.378006</td>\n",
              "      <td>227.787994</td>\n",
              "      <td>211.212006</td>\n",
              "      <td>226.897003</td>\n",
              "      <td>226.897003</td>\n",
              "      <td>29924600</td>\n",
              "      <td>0.028687</td>\n",
              "      <td>True</td>\n",
              "      <td>211.516142</td>\n",
              "      <td>252.197332</td>\n",
              "      <td>237.296354</td>\n",
              "      <td>225.220423</td>\n",
              "      <td>-12.075931</td>\n",
              "      <td>39.542978</td>\n",
              "      <td>331.283287</td>\n",
              "      <td>173.111376</td>\n",
              "      <td>221.826443</td>\n",
              "    </tr>\n",
              "    <tr>\n",
              "      <th>2015-01-22</th>\n",
              "      <td>227.322006</td>\n",
              "      <td>237.018997</td>\n",
              "      <td>226.434006</td>\n",
              "      <td>233.406006</td>\n",
              "      <td>233.406006</td>\n",
              "      <td>33544600</td>\n",
              "      <td>-0.002258</td>\n",
              "      <td>False</td>\n",
              "      <td>214.882143</td>\n",
              "      <td>248.347666</td>\n",
              "      <td>236.943225</td>\n",
              "      <td>226.512490</td>\n",
              "      <td>-10.430735</td>\n",
              "      <td>36.472461</td>\n",
              "      <td>321.292588</td>\n",
              "      <td>175.402743</td>\n",
              "      <td>229.546152</td>\n",
              "    </tr>\n",
              "    <tr>\n",
              "      <th>2015-01-23</th>\n",
              "      <td>233.516998</td>\n",
              "      <td>234.845001</td>\n",
              "      <td>225.195999</td>\n",
              "      <td>232.878998</td>\n",
              "      <td>232.878998</td>\n",
              "      <td>24621700</td>\n",
              "      <td>0.064274</td>\n",
              "      <td>True</td>\n",
              "      <td>218.422429</td>\n",
              "      <td>244.435617</td>\n",
              "      <td>236.580372</td>\n",
              "      <td>227.513418</td>\n",
              "      <td>-9.066953</td>\n",
              "      <td>35.544410</td>\n",
              "      <td>315.524437</td>\n",
              "      <td>173.346798</td>\n",
              "      <td>231.768049</td>\n",
              "    </tr>\n",
              "    <tr>\n",
              "      <th>2015-01-24</th>\n",
              "      <td>232.699997</td>\n",
              "      <td>248.210007</td>\n",
              "      <td>230.022003</td>\n",
              "      <td>247.847000</td>\n",
              "      <td>247.847000</td>\n",
              "      <td>24782500</td>\n",
              "      <td>0.023688</td>\n",
              "      <td>True</td>\n",
              "      <td>225.363429</td>\n",
              "      <td>242.852998</td>\n",
              "      <td>237.571188</td>\n",
              "      <td>230.699476</td>\n",
              "      <td>-6.871711</td>\n",
              "      <td>35.208124</td>\n",
              "      <td>313.269246</td>\n",
              "      <td>172.436750</td>\n",
              "      <td>242.487350</td>\n",
              "    </tr>\n",
              "    <tr>\n",
              "      <th>2015-01-25</th>\n",
              "      <td>247.352005</td>\n",
              "      <td>255.074005</td>\n",
              "      <td>243.889999</td>\n",
              "      <td>253.718002</td>\n",
              "      <td>253.718002</td>\n",
              "      <td>33582700</td>\n",
              "      <td>0.077862</td>\n",
              "      <td>True</td>\n",
              "      <td>231.560429</td>\n",
              "      <td>242.354093</td>\n",
              "      <td>238.971756</td>\n",
              "      <td>234.296011</td>\n",
              "      <td>-4.675745</td>\n",
              "      <td>34.492524</td>\n",
              "      <td>311.339142</td>\n",
              "      <td>173.369045</td>\n",
              "      <td>249.974451</td>\n",
              "    </tr>\n",
              "  </tbody>\n",
              "</table>\n",
              "</div>"
            ],
            "text/plain": [
              "                  Open        High  ...  lower_band         ema\n",
              "Date                                ...                        \n",
              "2015-01-21  211.378006  227.787994  ...  173.111376  221.826443\n",
              "2015-01-22  227.322006  237.018997  ...  175.402743  229.546152\n",
              "2015-01-23  233.516998  234.845001  ...  173.346798  231.768049\n",
              "2015-01-24  232.699997  248.210007  ...  172.436750  242.487350\n",
              "2015-01-25  247.352005  255.074005  ...  173.369045  249.974451\n",
              "\n",
              "[5 rows x 17 columns]"
            ]
          },
          "metadata": {
            "tags": []
          },
          "execution_count": 188
        }
      ]
    },
    {
      "cell_type": "code",
      "metadata": {
        "id": "bqV8t9jfaX2Q"
      },
      "source": [
        "#visualise the chart\n",
        "def plot_technical_indicators(dataset, last_days):\n",
        "    plt.figure(figsize=(16, 10), dpi=100)\n",
        "    shape_0 = dataset.shape[0]\n",
        "    xmacd_ = shape_0-last_days\n",
        "    \n",
        "    dataset = dataset.iloc[-last_days:, :]\n",
        "    x_ = range(3, dataset.shape[0])\n",
        "    x_ =list(dataset.index)\n",
        "    \n",
        "    # Plot first subplot\n",
        "    plt.subplot(2, 1, 1)\n",
        "    plt.plot(dataset['ma7'],label='MA 7', color='g',linestyle='--')\n",
        "    plt.plot(dataset['Close'],label='Closing Price', color='b')\n",
        "    plt.plot(dataset['ma21'],label='MA 21', color='r',linestyle='--')\n",
        "    plt.plot(dataset['upper_band'],label='Upper Band', color='c')\n",
        "    plt.plot(dataset['lower_band'],label='Lower Band', color='c')\n",
        "    plt.fill_between(x_, dataset['lower_band'], dataset['upper_band'], alpha=0.35)\n",
        "    plt.title('Technical indicators for Goldman Sachs - last {} days.'.format(last_days))\n",
        "    plt.ylabel('USD')\n",
        "    plt.legend()\n",
        "\n",
        "    # Plot second subplot\n",
        "    plt.subplot(2, 1, 2)\n",
        "    plt.title('MACD')\n",
        "    plt.plot(dataset['MACD'],label='MACD', linestyle='-.')\n",
        "    # plt.hlines(15, xmacd_, shape_0, colors='g', linestyles='--')\n",
        "    # plt.hlines(-15, xmacd_, shape_0, colors='g', linestyles='--')\n",
        "    #plt.plot(dataset['log_momentum'],label='Momentum', color='b',linestyle='-')\n",
        "\n",
        "    plt.legend()\n",
        "    plt.show()"
      ],
      "execution_count": 189,
      "outputs": []
    },
    {
      "cell_type": "code",
      "metadata": {
        "colab": {
          "base_uri": "https://localhost:8080/",
          "height": 838
        },
        "id": "WfwKoSota1bR",
        "outputId": "1ff8df18-0316-48ef-da6a-b262364ab381"
      },
      "source": [
        "plot_technical_indicators(price_processed, 400)"
      ],
      "execution_count": 190,
      "outputs": [
        {
          "output_type": "display_data",
          "data": {
            "image/png": "[encoded data removed]",
            "text/plain": [
              "<Figure size 1600x1000 with 2 Axes>"
            ]
          },
          "metadata": {
            "tags": [],
            "needs_background": "light"
          }
        }
      ]
    },
    {
      "cell_type": "code",
      "metadata": {
        "colab": {
          "base_uri": "https://localhost:8080/",
          "height": 362
        },
        "id": "sPy9BNTbpP6X",
        "outputId": "236ca64f-cdf8-4f00-92ad-c15095b53d10"
      },
      "source": [
        "price_processed.head()"
      ],
      "execution_count": 191,
      "outputs": [
        {
          "output_type": "execute_result",
          "data": {
            "text/html": [
              "<div>\n",
              "<style scoped>\n",
              "    .dataframe tbody tr th:only-of-type {\n",
              "        vertical-align: middle;\n",
              "    }\n",
              "\n",
              "    .dataframe tbody tr th {\n",
              "        vertical-align: top;\n",
              "    }\n",
              "\n",
              "    .dataframe thead th {\n",
              "        text-align: right;\n",
              "    }\n",
              "</style>\n",
              "<table border=\"1\" class=\"dataframe\">\n",
              "  <thead>\n",
              "    <tr style=\"text-align: right;\">\n",
              "      <th></th>\n",
              "      <th>Open</th>\n",
              "      <th>High</th>\n",
              "      <th>Low</th>\n",
              "      <th>Close</th>\n",
              "      <th>Adj Close</th>\n",
              "      <th>Volume</th>\n",
              "      <th>change</th>\n",
              "      <th>change_label</th>\n",
              "      <th>ma7</th>\n",
              "      <th>ma21</th>\n",
              "      <th>26ema</th>\n",
              "      <th>12ema</th>\n",
              "      <th>MACD</th>\n",
              "      <th>20sd</th>\n",
              "      <th>upper_band</th>\n",
              "      <th>lower_band</th>\n",
              "      <th>ema</th>\n",
              "    </tr>\n",
              "    <tr>\n",
              "      <th>Date</th>\n",
              "      <th></th>\n",
              "      <th></th>\n",
              "      <th></th>\n",
              "      <th></th>\n",
              "      <th></th>\n",
              "      <th></th>\n",
              "      <th></th>\n",
              "      <th></th>\n",
              "      <th></th>\n",
              "      <th></th>\n",
              "      <th></th>\n",
              "      <th></th>\n",
              "      <th></th>\n",
              "      <th></th>\n",
              "      <th></th>\n",
              "      <th></th>\n",
              "      <th></th>\n",
              "    </tr>\n",
              "  </thead>\n",
              "  <tbody>\n",
              "    <tr>\n",
              "      <th>2015-01-21</th>\n",
              "      <td>211.378006</td>\n",
              "      <td>227.787994</td>\n",
              "      <td>211.212006</td>\n",
              "      <td>226.897003</td>\n",
              "      <td>226.897003</td>\n",
              "      <td>29924600</td>\n",
              "      <td>0.028687</td>\n",
              "      <td>True</td>\n",
              "      <td>211.516142</td>\n",
              "      <td>252.197332</td>\n",
              "      <td>237.296354</td>\n",
              "      <td>225.220423</td>\n",
              "      <td>-12.075931</td>\n",
              "      <td>39.542978</td>\n",
              "      <td>331.283287</td>\n",
              "      <td>173.111376</td>\n",
              "      <td>221.826443</td>\n",
              "    </tr>\n",
              "    <tr>\n",
              "      <th>2015-01-22</th>\n",
              "      <td>227.322006</td>\n",
              "      <td>237.018997</td>\n",
              "      <td>226.434006</td>\n",
              "      <td>233.406006</td>\n",
              "      <td>233.406006</td>\n",
              "      <td>33544600</td>\n",
              "      <td>-0.002258</td>\n",
              "      <td>False</td>\n",
              "      <td>214.882143</td>\n",
              "      <td>248.347666</td>\n",
              "      <td>236.943225</td>\n",
              "      <td>226.512490</td>\n",
              "      <td>-10.430735</td>\n",
              "      <td>36.472461</td>\n",
              "      <td>321.292588</td>\n",
              "      <td>175.402743</td>\n",
              "      <td>229.546152</td>\n",
              "    </tr>\n",
              "    <tr>\n",
              "      <th>2015-01-23</th>\n",
              "      <td>233.516998</td>\n",
              "      <td>234.845001</td>\n",
              "      <td>225.195999</td>\n",
              "      <td>232.878998</td>\n",
              "      <td>232.878998</td>\n",
              "      <td>24621700</td>\n",
              "      <td>0.064274</td>\n",
              "      <td>True</td>\n",
              "      <td>218.422429</td>\n",
              "      <td>244.435617</td>\n",
              "      <td>236.580372</td>\n",
              "      <td>227.513418</td>\n",
              "      <td>-9.066953</td>\n",
              "      <td>35.544410</td>\n",
              "      <td>315.524437</td>\n",
              "      <td>173.346798</td>\n",
              "      <td>231.768049</td>\n",
              "    </tr>\n",
              "    <tr>\n",
              "      <th>2015-01-24</th>\n",
              "      <td>232.699997</td>\n",
              "      <td>248.210007</td>\n",
              "      <td>230.022003</td>\n",
              "      <td>247.847000</td>\n",
              "      <td>247.847000</td>\n",
              "      <td>24782500</td>\n",
              "      <td>0.023688</td>\n",
              "      <td>True</td>\n",
              "      <td>225.363429</td>\n",
              "      <td>242.852998</td>\n",
              "      <td>237.571188</td>\n",
              "      <td>230.699476</td>\n",
              "      <td>-6.871711</td>\n",
              "      <td>35.208124</td>\n",
              "      <td>313.269246</td>\n",
              "      <td>172.436750</td>\n",
              "      <td>242.487350</td>\n",
              "    </tr>\n",
              "    <tr>\n",
              "      <th>2015-01-25</th>\n",
              "      <td>247.352005</td>\n",
              "      <td>255.074005</td>\n",
              "      <td>243.889999</td>\n",
              "      <td>253.718002</td>\n",
              "      <td>253.718002</td>\n",
              "      <td>33582700</td>\n",
              "      <td>0.077862</td>\n",
              "      <td>True</td>\n",
              "      <td>231.560429</td>\n",
              "      <td>242.354093</td>\n",
              "      <td>238.971756</td>\n",
              "      <td>234.296011</td>\n",
              "      <td>-4.675745</td>\n",
              "      <td>34.492524</td>\n",
              "      <td>311.339142</td>\n",
              "      <td>173.369045</td>\n",
              "      <td>249.974451</td>\n",
              "    </tr>\n",
              "  </tbody>\n",
              "</table>\n",
              "</div>"
            ],
            "text/plain": [
              "                  Open        High  ...  lower_band         ema\n",
              "Date                                ...                        \n",
              "2015-01-21  211.378006  227.787994  ...  173.111376  221.826443\n",
              "2015-01-22  227.322006  237.018997  ...  175.402743  229.546152\n",
              "2015-01-23  233.516998  234.845001  ...  173.346798  231.768049\n",
              "2015-01-24  232.699997  248.210007  ...  172.436750  242.487350\n",
              "2015-01-25  247.352005  255.074005  ...  173.369045  249.974451\n",
              "\n",
              "[5 rows x 17 columns]"
            ]
          },
          "metadata": {
            "tags": []
          },
          "execution_count": 191
        }
      ]
    },
    {
      "cell_type": "markdown",
      "metadata": {
        "id": "UZb0Sy17pQ6i"
      },
      "source": [
        "# Format data for model"
      ]
    },
    {
      "cell_type": "code",
      "metadata": {
        "id": "h2zSOEWwCmOa"
      },
      "source": [
        "#now perhaps convert them to a list, and then tensor, to proceed to process the price data? \n",
        "\n",
        "x_input=price_processed.drop(['change','change_label'],axis=1).values\n",
        "\n",
        "# scaler = MinMaxScaler()\n",
        "# x_input= scaler.fit_transform(x_input)\n",
        "x_input=x_input.tolist()\n",
        "\n",
        "x_label=price_processed['change_label'].values\n",
        "x_label=x_label.reshape(-1,).tolist()\n",
        "#try to encode label \n",
        "x_label = [1 if x else 0 for x in x_label]\n"
      ],
      "execution_count": 192,
      "outputs": []
    },
    {
      "cell_type": "code",
      "metadata": {
        "colab": {
          "base_uri": "https://localhost:8080/"
        },
        "id": "eEHBjRo3DKK9",
        "outputId": "6ff3e4f1-701a-40c5-8ca7-2eaa0a065e7b"
      },
      "source": [
        "x_input[0]"
      ],
      "execution_count": 193,
      "outputs": [
        {
          "output_type": "execute_result",
          "data": {
            "text/plain": [
              "[211.3780059814453,\n",
              " 227.78799438476562,\n",
              " 211.21200561523438,\n",
              " 226.89700317382812,\n",
              " 226.89700317382812,\n",
              " 29924600.0,\n",
              " 211.5161416190011,\n",
              " 252.19733174641928,\n",
              " 237.29635350176954,\n",
              " 225.22042289269598,\n",
              " -12.075930609073566,\n",
              " 39.54297772854353,\n",
              " 331.28328720350635,\n",
              " 173.1113762893322,\n",
              " 221.8264434798479]"
            ]
          },
          "metadata": {
            "tags": []
          },
          "execution_count": 193
        }
      ]
    },
    {
      "cell_type": "code",
      "metadata": {
        "id": "hGtR58hFcP9X"
      },
      "source": [
        "#roe relative price \n",
        "# x_input = relative_price.drop(['change','change_label'],axis = 1).values\n",
        "\n",
        "\n",
        "# # x_input= min_max_scaler.fit_transform(x_input)\n",
        "# x_input=x_input.tolist()\n",
        "\n",
        "# x_label=relative_price['change_label'].values\n",
        "# x_label=x_label.reshape(-1,).tolist()\n",
        "# #try to encode label \n",
        "# x_label = [1 if x else 0 for x in x_label]"
      ],
      "execution_count": 194,
      "outputs": []
    },
    {
      "cell_type": "code",
      "metadata": {
        "id": "2bpmrO8vI0Cy",
        "colab": {
          "base_uri": "https://localhost:8080/"
        },
        "outputId": "f0755635-1fda-4d9f-bc65-d1e8335e787a"
      },
      "source": [
        "x_input[0],x_label[0]"
      ],
      "execution_count": 195,
      "outputs": [
        {
          "output_type": "execute_result",
          "data": {
            "text/plain": [
              "([211.3780059814453,\n",
              "  227.78799438476562,\n",
              "  211.21200561523438,\n",
              "  226.89700317382812,\n",
              "  226.89700317382812,\n",
              "  29924600.0,\n",
              "  211.5161416190011,\n",
              "  252.19733174641928,\n",
              "  237.29635350176954,\n",
              "  225.22042289269598,\n",
              "  -12.075930609073566,\n",
              "  39.54297772854353,\n",
              "  331.28328720350635,\n",
              "  173.1113762893322,\n",
              "  221.8264434798479],\n",
              " 1)"
            ]
          },
          "metadata": {
            "tags": []
          },
          "execution_count": 195
        }
      ]
    },
    {
      "cell_type": "code",
      "metadata": {
        "id": "TWjvf91FJDYV",
        "colab": {
          "base_uri": "https://localhost:8080/"
        },
        "outputId": "afb03548-8a37-4d47-c2aa-c5966e80fc3c"
      },
      "source": [
        "def process(data, window_size):\n",
        "    output = []\n",
        "    for i in range(window_size-1, len(data)):\n",
        "        raw_data = data[i-window_size+1:i+1]\n",
        "        output.append(raw_data)\n",
        "    return output\n",
        "\n",
        "window_size = 10\n",
        "x_processed = process(x_input, 10)\n",
        "split = round(len(x_processed)*0.7)\n",
        "x_train = x_processed[:split]\n",
        "x_eval = x_processed[split:]\n",
        "x_train = torch.tensor(x_train, dtype=torch.float)\n",
        "x_lab = torch.tensor(x_label[window_size-1:window_size-1+split],dtype=torch.float)\n",
        "\n",
        "\n",
        "x_eval = torch.tensor(x_eval, dtype=torch.float)\n",
        "x_lab_eval = torch.tensor(x_label[window_size-1+split:],dtype=torch.float)\n",
        "\n",
        "print(x_train.size())\n",
        "print(x_lab.size())\n",
        "print(x_train[0])\n",
        "print(x_label[0])\n",
        "print(x_train.type())\n",
        "print(x_lab.type())\n",
        "print(x_eval.size())\n",
        "print(x_lab_eval.size())"
      ],
      "execution_count": 196,
      "outputs": [
        {
          "output_type": "stream",
          "text": [
            "torch.Size([1257, 10, 15])\n",
            "torch.Size([1257])\n",
            "tensor([[ 2.1138e+02,  2.2779e+02,  2.1121e+02,  2.2690e+02,  2.2690e+02,\n",
            "          2.9925e+07,  2.1152e+02,  2.5220e+02,  2.3730e+02,  2.2522e+02,\n",
            "         -1.2076e+01,  3.9543e+01,  3.3128e+02,  1.7311e+02,  2.2183e+02],\n",
            "        [ 2.2732e+02,  2.3702e+02,  2.2643e+02,  2.3341e+02,  2.3341e+02,\n",
            "          3.3545e+07,  2.1488e+02,  2.4835e+02,  2.3694e+02,  2.2651e+02,\n",
            "         -1.0431e+01,  3.6472e+01,  3.2129e+02,  1.7540e+02,  2.2955e+02],\n",
            "        [ 2.3352e+02,  2.3485e+02,  2.2520e+02,  2.3288e+02,  2.3288e+02,\n",
            "          2.4622e+07,  2.1842e+02,  2.4444e+02,  2.3658e+02,  2.2751e+02,\n",
            "         -9.0670e+00,  3.5544e+01,  3.1552e+02,  1.7335e+02,  2.3177e+02],\n",
            "        [ 2.3270e+02,  2.4821e+02,  2.3002e+02,  2.4785e+02,  2.4785e+02,\n",
            "          2.4782e+07,  2.2536e+02,  2.4285e+02,  2.3757e+02,  2.3070e+02,\n",
            "         -6.8717e+00,  3.5208e+01,  3.1327e+02,  1.7244e+02,  2.4249e+02],\n",
            "        [ 2.4735e+02,  2.5507e+02,  2.4389e+02,  2.5372e+02,  2.5372e+02,\n",
            "          3.3583e+07,  2.3156e+02,  2.4235e+02,  2.3897e+02,  2.3430e+02,\n",
            "         -4.6757e+00,  3.4493e+01,  3.1134e+02,  1.7337e+02,  2.4997e+02],\n",
            "        [ 2.5408e+02,  3.0938e+02,  2.5408e+02,  2.7347e+02,  2.7347e+02,\n",
            "          1.0679e+08,  2.3993e+02,  2.4231e+02,  2.4193e+02,  2.4040e+02,\n",
            "         -1.5244e+00,  3.3719e+01,  3.0975e+02,  1.7487e+02,  2.6564e+02],\n",
            "        [ 2.7317e+02,  2.7548e+02,  2.5065e+02,  2.6348e+02,  2.6348e+02,\n",
            "          4.4399e+07,  2.4738e+02,  2.4122e+02,  2.4375e+02,  2.4399e+02,\n",
            "          2.4012e-01,  3.1756e+01,  3.0474e+02,  1.7771e+02,  2.6420e+02],\n",
            "        [ 2.6335e+02,  2.6654e+02,  2.2705e+02,  2.3391e+02,  2.3391e+02,\n",
            "          4.4352e+07,  2.4839e+02,  2.3835e+02,  2.4293e+02,  2.4243e+02,\n",
            "         -5.0052e-01,  2.9961e+01,  2.9827e+02,  1.7843e+02,  2.4401e+02],\n",
            "        [ 2.3335e+02,  2.3871e+02,  2.2071e+02,  2.3351e+02,  2.3351e+02,\n",
            "          3.2213e+07,  2.4840e+02,  2.3597e+02,  2.4215e+02,  2.4104e+02,\n",
            "         -1.1016e+00,  2.7097e+01,  2.9017e+02,  1.8178e+02,  2.3701e+02],\n",
            "        [ 2.3277e+02,  2.4285e+02,  2.2584e+02,  2.2643e+02,  2.2643e+02,\n",
            "          2.6605e+07,  2.4748e+02,  2.3293e+02,  2.4085e+02,  2.3878e+02,\n",
            "         -2.0728e+00,  2.5292e+01,  2.8351e+02,  1.8234e+02,  2.2995e+02]])\n",
            "1\n",
            "torch.FloatTensor\n",
            "torch.FloatTensor\n",
            "torch.Size([539, 10, 15])\n",
            "torch.Size([539])\n"
          ],
          "name": "stdout"
        }
      ]
    },
    {
      "cell_type": "markdown",
      "metadata": {
        "id": "xAFTd8rWLKHt"
      },
      "source": [
        "# Prepare the Model"
      ]
    },
    {
      "cell_type": "code",
      "metadata": {
        "id": "DpREgH9sLMXl"
      },
      "source": [
        "train_data = x_train\n",
        "train_label = x_lab\n",
        "\n",
        "eval_data = x_eval\n",
        "#print(test_data.size())\n",
        "eval_label = x_lab_eval\n",
        "#print(test_label)\n",
        "\n",
        "# batching  data\n",
        "batch_size = 64\n",
        "train_data = TensorDataset(train_data, train_label)\n",
        "train_loader = DataLoader(train_data, batch_size)\n",
        "train_batches = [batch for batch in train_loader]\n",
        "\n",
        "eval_data = TensorDataset(eval_data, eval_label)\n",
        "eval_loader = DataLoader(eval_data, batch_size) \n",
        "eval_batches = [batch for batch in eval_loader]"
      ],
      "execution_count": 197,
      "outputs": []
    },
    {
      "cell_type": "code",
      "metadata": {
        "id": "PSfqkcKTMgky"
      },
      "source": [
        "class OurModel(nn.Module):\n",
        "    def __init__(self, input_size,  hidden_size, num_layers):\n",
        "        super(OurModel, self).__init__()\n",
        "        num_layers = num_layers\n",
        "        self.input_size = input_size\n",
        "        self.hidden_size = hidden_size\n",
        "        self.lstm = nn.LSTM(self.input_size, self.hidden_size, num_layers, batch_first=True, bidirectional=False, dropout=0.5)\n",
        "        self.ff = nn.Linear(self.hidden_size, 1)\n",
        "        self.dropout = nn.Dropout()\n",
        "\n",
        "        #need to change the loss function. \n",
        "    def forward(self, input):\n",
        "        output, (hn, cn) = self.lstm(input)\n",
        "        hn = self.dropout(hn[-1,:,:])\n",
        "        percent_change = self.ff(hn)\n",
        "        return percent_change\n"
      ],
      "execution_count": 198,
      "outputs": []
    },
    {
      "cell_type": "code",
      "metadata": {
        "id": "J2JZAdtvR69O"
      },
      "source": [
        "#define model,\n",
        "\n",
        "model = OurModel(15, 512, 2)\n",
        "\n",
        "# for i in range(30):\n",
        "#     for step, batch in enumerate(train_batches):\n",
        "#         optimizer.step()\n",
        "#         model.zero_grad()\n",
        "        \n",
        "#         data, label = tuple(t for t in batch)\n",
        "#         model.train()\n",
        "#         loss = model(data, label)\n",
        "#         loss.backward()\n",
        "\n",
        "#     model.eval()\n",
        "#     output = evaluation(test_loader, model)\n",
        "#     print('prediction:', output)\n",
        "#     print(loss)"
      ],
      "execution_count": 199,
      "outputs": []
    },
    {
      "cell_type": "code",
      "metadata": {
        "id": "GRitBVF2tCVD"
      },
      "source": [
        "#define optimizer, loss function\n",
        "params = model.parameters()\n",
        "optimizer = optim.Adam(params)\n",
        "criterion = nn.BCEWithLogitsLoss()"
      ],
      "execution_count": 200,
      "outputs": []
    },
    {
      "cell_type": "code",
      "metadata": {
        "colab": {
          "base_uri": "https://localhost:8080/"
        },
        "id": "HzMyaJ0bsksz",
        "outputId": "29d5ce97-019a-4d82-d7c7-2d98c33fce6b"
      },
      "source": [
        "#Move model to device\n",
        "device = torch.device('cuda' if torch.cuda.is_available() else 'cpu')\n",
        "model = model.to(device)\n",
        "criterion = criterion.to(device)\n",
        "\n",
        "print (device)"
      ],
      "execution_count": 201,
      "outputs": [
        {
          "output_type": "stream",
          "text": [
            "cuda\n"
          ],
          "name": "stdout"
        }
      ]
    },
    {
      "cell_type": "code",
      "metadata": {
        "colab": {
          "base_uri": "https://localhost:8080/"
        },
        "id": "6LQy1RUJr4Lm",
        "outputId": "4da863ea-ec82-45c6-dae2-cd199098f315"
      },
      "source": [
        "#check number of parameters. \n",
        "def count_parameters(model):\n",
        "    return sum(p.numel() for p in model.parameters() if p.requires_grad)\n",
        "\n",
        "print(f'The model has {count_parameters(model):,} trainable parameters')"
      ],
      "execution_count": 202,
      "outputs": [
        {
          "output_type": "stream",
          "text": [
            "The model has 3,185,153 trainable parameters\n"
          ],
          "name": "stdout"
        }
      ]
    },
    {
      "cell_type": "code",
      "metadata": {
        "id": "cNsy3zuvSFqo"
      },
      "source": [
        "def binary_accuracy(preds, y):\n",
        "    \"\"\"\n",
        "    Returns accuracy per batch, i.e. if you get 8/10 right, this returns 0.8, NOT 8\n",
        "    \"\"\"\n",
        "\n",
        "    #round predictions to the closest integer\n",
        "    rounded_preds = torch.round(torch.sigmoid(preds))\n",
        "    correct = (rounded_preds == y).float() #convert into float for division \n",
        "    acc = correct.sum() / len(correct)\n",
        "    return acc"
      ],
      "execution_count": 203,
      "outputs": []
    },
    {
      "cell_type": "code",
      "metadata": {
        "id": "zi0CHIDNT-X3"
      },
      "source": [
        "#here, let's try to define a function to get the confusion matrix stats\n",
        "\n"
      ],
      "execution_count": 204,
      "outputs": []
    },
    {
      "cell_type": "code",
      "metadata": {
        "id": "Ps2oeWfXmVF4"
      },
      "source": [
        "def train(model, train_batches, optimizer, criterion):\n",
        "    \n",
        "    epoch_loss = 0\n",
        "    epoch_acc = 0\n",
        "    \n",
        "    model.train()\n",
        "\n",
        "    for step, batch in enumerate(train_batches):\n",
        "        \n",
        "        optimizer.zero_grad()\n",
        "        \n",
        "        data, label = tuple(t for t in batch)\n",
        "\n",
        "        data = data.to(device)\n",
        "        label = label.to(device)\n",
        "\n",
        "        predictions = model(data).squeeze(1)\n",
        "\n",
        "        loss = criterion(predictions, label)\n",
        "        #loss = f1_loss(predictions, label)\n",
        "        \n",
        "        acc = binary_accuracy(predictions, label)\n",
        "        \n",
        "        loss.backward()\n",
        "        \n",
        "        optimizer.step()\n",
        "        \n",
        "        epoch_loss += loss.item()\n",
        "        epoch_acc += acc.item()\n",
        "        \n",
        "    return epoch_loss / len(train_batches), epoch_acc / len(train_batches)"
      ],
      "execution_count": 216,
      "outputs": []
    },
    {
      "cell_type": "code",
      "metadata": {
        "id": "B-5ik76v7st1"
      },
      "source": [
        "def evaluate(model, eval_batches, criterion):\n",
        "    \n",
        "    epoch_loss = 0\n",
        "    epoch_acc = 0\n",
        "    \n",
        "    model.eval()\n",
        "    \n",
        "    with torch.no_grad():\n",
        "    \n",
        "        for step, batch in enumerate(eval_batches):\n",
        "\n",
        "            data, label = tuple(t for t in batch)\n",
        "            data = data.to(device)\n",
        "            label = label.to(device)\n",
        "            \n",
        "            predictions = model(data).squeeze(1)\n",
        "            \n",
        "            loss = criterion(predictions, label)\n",
        "            \n",
        "            acc = binary_accuracy(predictions, label)\n",
        "\n",
        "            epoch_loss += loss.item()\n",
        "            epoch_acc += acc.item()\n",
        "        \n",
        "    return epoch_loss / len(eval_batches), epoch_acc / len(eval_batches)"
      ],
      "execution_count": 206,
      "outputs": []
    },
    {
      "cell_type": "code",
      "metadata": {
        "id": "OjDUGdyMmVvi",
        "colab": {
          "base_uri": "https://localhost:8080/",
          "height": 613
        },
        "outputId": "1a1f080c-c64c-4eb6-f0f3-a48026ac838a"
      },
      "source": [
        "import time\n",
        "\n",
        "def epoch_time(start_time, end_time):\n",
        "    elapsed_time = end_time - start_time\n",
        "    elapsed_mins = int(elapsed_time / 60)\n",
        "    elapsed_secs = int(elapsed_time - (elapsed_mins * 60))\n",
        "    return elapsed_mins, elapsed_secs\n",
        "\n",
        "N_EPOCHS = 10\n",
        "\n",
        "best_valid_loss = float('inf')\n",
        "\n",
        "for epoch in range(N_EPOCHS):\n",
        "\n",
        "    start_time = time.time()\n",
        "    \n",
        "    train_loss, train_acc = train(model, train_batches, optimizer, criterion)\n",
        "    valid_loss, valid_acc = evaluate(model, eval_batches, criterion)\n",
        "    \n",
        "    end_time = time.time()\n",
        "\n",
        "    epoch_mins, epoch_secs = epoch_time(start_time, end_time)\n",
        "    \n",
        "    # if valid_loss < best_valid_loss:\n",
        "    #     best_valid_loss = valid_loss\n",
        "    #     torch.save(model.state_dict(), 'tut2-model.pt')\n",
        "    \n",
        "    print(f'Epoch: {epoch+1:02} | Epoch Time: {epoch_mins}m {epoch_secs}s')\n",
        "    print(f'\\tTrain Loss: {train_loss:.3f} | Train Acc: {train_acc*100:.2f}%')\n",
        "    print(f'\\t Val. Loss: {valid_loss:.3f} |  Val. Acc: {valid_acc*100:.2f}%')"
      ],
      "execution_count": 215,
      "outputs": [
        {
          "output_type": "error",
          "ename": "AssertionError",
          "evalue": "ignored",
          "traceback": [
            "\u001b[0;31m---------------------------------------------------------------------------\u001b[0m",
            "\u001b[0;31mAssertionError\u001b[0m                            Traceback (most recent call last)",
            "\u001b[0;32m<ipython-input-215-efc03c711f02>\u001b[0m in \u001b[0;36m<module>\u001b[0;34m()\u001b[0m\n\u001b[1;32m     15\u001b[0m     \u001b[0mstart_time\u001b[0m \u001b[0;34m=\u001b[0m \u001b[0mtime\u001b[0m\u001b[0;34m.\u001b[0m\u001b[0mtime\u001b[0m\u001b[0;34m(\u001b[0m\u001b[0;34m)\u001b[0m\u001b[0;34m\u001b[0m\u001b[0;34m\u001b[0m\u001b[0m\n\u001b[1;32m     16\u001b[0m \u001b[0;34m\u001b[0m\u001b[0m\n\u001b[0;32m---> 17\u001b[0;31m     \u001b[0mtrain_loss\u001b[0m\u001b[0;34m,\u001b[0m \u001b[0mtrain_acc\u001b[0m \u001b[0;34m=\u001b[0m \u001b[0mtrain\u001b[0m\u001b[0;34m(\u001b[0m\u001b[0mmodel\u001b[0m\u001b[0;34m,\u001b[0m \u001b[0mtrain_batches\u001b[0m\u001b[0;34m,\u001b[0m \u001b[0moptimizer\u001b[0m\u001b[0;34m,\u001b[0m \u001b[0mcriterion\u001b[0m\u001b[0;34m)\u001b[0m\u001b[0;34m\u001b[0m\u001b[0;34m\u001b[0m\u001b[0m\n\u001b[0m\u001b[1;32m     18\u001b[0m     \u001b[0mvalid_loss\u001b[0m\u001b[0;34m,\u001b[0m \u001b[0mvalid_acc\u001b[0m \u001b[0;34m=\u001b[0m \u001b[0mevaluate\u001b[0m\u001b[0;34m(\u001b[0m\u001b[0mmodel\u001b[0m\u001b[0;34m,\u001b[0m \u001b[0meval_batches\u001b[0m\u001b[0;34m,\u001b[0m \u001b[0mcriterion\u001b[0m\u001b[0;34m)\u001b[0m\u001b[0;34m\u001b[0m\u001b[0;34m\u001b[0m\u001b[0m\n\u001b[1;32m     19\u001b[0m \u001b[0;34m\u001b[0m\u001b[0m\n",
            "\u001b[0;32m<ipython-input-214-2b4cf40fc00b>\u001b[0m in \u001b[0;36mtrain\u001b[0;34m(model, train_batches, optimizer, criterion)\u001b[0m\n\u001b[1;32m     18\u001b[0m \u001b[0;34m\u001b[0m\u001b[0m\n\u001b[1;32m     19\u001b[0m         \u001b[0;31m#loss = criterion(predictions, label)\u001b[0m\u001b[0;34m\u001b[0m\u001b[0;34m\u001b[0m\u001b[0;34m\u001b[0m\u001b[0m\n\u001b[0;32m---> 20\u001b[0;31m         \u001b[0mloss\u001b[0m \u001b[0;34m=\u001b[0m \u001b[0mf1_loss\u001b[0m\u001b[0;34m(\u001b[0m\u001b[0mpredictions\u001b[0m\u001b[0;34m,\u001b[0m \u001b[0mlabel\u001b[0m\u001b[0;34m)\u001b[0m\u001b[0;34m\u001b[0m\u001b[0;34m\u001b[0m\u001b[0m\n\u001b[0m\u001b[1;32m     21\u001b[0m \u001b[0;34m\u001b[0m\u001b[0m\n\u001b[1;32m     22\u001b[0m         \u001b[0macc\u001b[0m \u001b[0;34m=\u001b[0m \u001b[0mbinary_accuracy\u001b[0m\u001b[0;34m(\u001b[0m\u001b[0mpredictions\u001b[0m\u001b[0;34m,\u001b[0m \u001b[0mlabel\u001b[0m\u001b[0;34m)\u001b[0m\u001b[0;34m\u001b[0m\u001b[0;34m\u001b[0m\u001b[0m\n",
            "\u001b[0;32m/usr/local/lib/python3.6/dist-packages/torch/nn/modules/module.py\u001b[0m in \u001b[0;36m_call_impl\u001b[0;34m(self, *input, **kwargs)\u001b[0m\n\u001b[1;32m    725\u001b[0m             \u001b[0mresult\u001b[0m \u001b[0;34m=\u001b[0m \u001b[0mself\u001b[0m\u001b[0;34m.\u001b[0m\u001b[0m_slow_forward\u001b[0m\u001b[0;34m(\u001b[0m\u001b[0;34m*\u001b[0m\u001b[0minput\u001b[0m\u001b[0;34m,\u001b[0m \u001b[0;34m**\u001b[0m\u001b[0mkwargs\u001b[0m\u001b[0;34m)\u001b[0m\u001b[0;34m\u001b[0m\u001b[0;34m\u001b[0m\u001b[0m\n\u001b[1;32m    726\u001b[0m         \u001b[0;32melse\u001b[0m\u001b[0;34m:\u001b[0m\u001b[0;34m\u001b[0m\u001b[0;34m\u001b[0m\u001b[0m\n\u001b[0;32m--> 727\u001b[0;31m             \u001b[0mresult\u001b[0m \u001b[0;34m=\u001b[0m \u001b[0mself\u001b[0m\u001b[0;34m.\u001b[0m\u001b[0mforward\u001b[0m\u001b[0;34m(\u001b[0m\u001b[0;34m*\u001b[0m\u001b[0minput\u001b[0m\u001b[0;34m,\u001b[0m \u001b[0;34m**\u001b[0m\u001b[0mkwargs\u001b[0m\u001b[0;34m)\u001b[0m\u001b[0;34m\u001b[0m\u001b[0;34m\u001b[0m\u001b[0m\n\u001b[0m\u001b[1;32m    728\u001b[0m         for hook in itertools.chain(\n\u001b[1;32m    729\u001b[0m                 \u001b[0m_global_forward_hooks\u001b[0m\u001b[0;34m.\u001b[0m\u001b[0mvalues\u001b[0m\u001b[0;34m(\u001b[0m\u001b[0;34m)\u001b[0m\u001b[0;34m,\u001b[0m\u001b[0;34m\u001b[0m\u001b[0;34m\u001b[0m\u001b[0m\n",
            "\u001b[0;32m<ipython-input-213-23ff22e1fc3d>\u001b[0m in \u001b[0;36mforward\u001b[0;34m(self, y_pred, y_true)\u001b[0m\n\u001b[1;32m     21\u001b[0m \u001b[0;34m\u001b[0m\u001b[0m\n\u001b[1;32m     22\u001b[0m     \u001b[0;32mdef\u001b[0m \u001b[0mforward\u001b[0m\u001b[0;34m(\u001b[0m\u001b[0mself\u001b[0m\u001b[0;34m,\u001b[0m \u001b[0my_pred\u001b[0m\u001b[0;34m,\u001b[0m \u001b[0my_true\u001b[0m\u001b[0;34m,\u001b[0m\u001b[0;34m)\u001b[0m\u001b[0;34m:\u001b[0m\u001b[0;34m\u001b[0m\u001b[0;34m\u001b[0m\u001b[0m\n\u001b[0;32m---> 23\u001b[0;31m         \u001b[0;32massert\u001b[0m \u001b[0my_pred\u001b[0m\u001b[0;34m.\u001b[0m\u001b[0mndim\u001b[0m \u001b[0;34m==\u001b[0m \u001b[0;36m2\u001b[0m\u001b[0;34m\u001b[0m\u001b[0;34m\u001b[0m\u001b[0m\n\u001b[0m\u001b[1;32m     24\u001b[0m         \u001b[0;32massert\u001b[0m \u001b[0my_true\u001b[0m\u001b[0;34m.\u001b[0m\u001b[0mndim\u001b[0m \u001b[0;34m==\u001b[0m \u001b[0;36m1\u001b[0m\u001b[0;34m\u001b[0m\u001b[0;34m\u001b[0m\u001b[0m\n\u001b[1;32m     25\u001b[0m         \u001b[0my_true\u001b[0m \u001b[0;34m=\u001b[0m \u001b[0mF\u001b[0m\u001b[0;34m.\u001b[0m\u001b[0mone_hot\u001b[0m\u001b[0;34m(\u001b[0m\u001b[0my_true\u001b[0m\u001b[0;34m,\u001b[0m \u001b[0;36m2\u001b[0m\u001b[0;34m)\u001b[0m\u001b[0;34m.\u001b[0m\u001b[0mto\u001b[0m\u001b[0;34m(\u001b[0m\u001b[0mtorch\u001b[0m\u001b[0;34m.\u001b[0m\u001b[0mfloat32\u001b[0m\u001b[0;34m)\u001b[0m\u001b[0;34m\u001b[0m\u001b[0;34m\u001b[0m\u001b[0m\n",
            "\u001b[0;31mAssertionError\u001b[0m: "
          ]
        }
      ]
    },
    {
      "cell_type": "code",
      "metadata": {
        "id": "XIjV1DwHmhAp",
        "colab": {
          "base_uri": "https://localhost:8080/"
        },
        "outputId": "753bff1f-a0e7-4056-926e-700268700404"
      },
      "source": [
        "len(train_batches)"
      ],
      "execution_count": 208,
      "outputs": [
        {
          "output_type": "execute_result",
          "data": {
            "text/plain": [
              "20"
            ]
          },
          "metadata": {
            "tags": []
          },
          "execution_count": 208
        }
      ]
    },
    {
      "cell_type": "code",
      "metadata": {
        "id": "B_Cy6CcDmhme"
      },
      "source": [
        "predlist=torch.zeros(0,dtype=torch.long, device='cpu')\n",
        "lbllist=torch.zeros(0,dtype=torch.long, device='cpu')\n",
        "\n",
        "with torch.no_grad():\n",
        "  for step, batch in enumerate(eval_batches):\n",
        "    data, label = (t for t in batch)\n",
        "    data = data.to(device)\n",
        "    label = label.to(device)\n",
        "    predictions = model(data).squeeze(1)\n",
        "    predictions = torch.sigmoid(predictions)\n",
        "    predictions = torch.round(predictions)\n",
        "\n",
        "    predlist=torch.cat([predlist,predictions.view(-1).cpu()])\n",
        "    lbllist=torch.cat([lbllist,label.view(-1).cpu()])\n"
      ],
      "execution_count": 209,
      "outputs": []
    },
    {
      "cell_type": "code",
      "metadata": {
        "colab": {
          "base_uri": "https://localhost:8080/"
        },
        "id": "BK4i4cSNZ7W6",
        "outputId": "41e9559c-ee68-4b41-ec5e-96eb160f6637"
      },
      "source": [
        "conf_mat=confusion_matrix(lbllist.numpy(), predlist.numpy())\n",
        "print(conf_mat)\n"
      ],
      "execution_count": 210,
      "outputs": [
        {
          "output_type": "stream",
          "text": [
            "[[  0 261]\n",
            " [  0 278]]\n"
          ],
          "name": "stdout"
        }
      ]
    },
    {
      "cell_type": "code",
      "metadata": {
        "colab": {
          "base_uri": "https://localhost:8080/"
        },
        "id": "0tRocEZ4bQyt",
        "outputId": "9a03b640-4433-4924-c33e-99cb1c01685e"
      },
      "source": [
        "predlist"
      ],
      "execution_count": 211,
      "outputs": [
        {
          "output_type": "execute_result",
          "data": {
            "text/plain": [
              "tensor([1., 1., 1., 1., 1., 1., 1., 1., 1., 1., 1., 1., 1., 1., 1., 1., 1., 1.,\n",
              "        1., 1., 1., 1., 1., 1., 1., 1., 1., 1., 1., 1., 1., 1., 1., 1., 1., 1.,\n",
              "        1., 1., 1., 1., 1., 1., 1., 1., 1., 1., 1., 1., 1., 1., 1., 1., 1., 1.,\n",
              "        1., 1., 1., 1., 1., 1., 1., 1., 1., 1., 1., 1., 1., 1., 1., 1., 1., 1.,\n",
              "        1., 1., 1., 1., 1., 1., 1., 1., 1., 1., 1., 1., 1., 1., 1., 1., 1., 1.,\n",
              "        1., 1., 1., 1., 1., 1., 1., 1., 1., 1., 1., 1., 1., 1., 1., 1., 1., 1.,\n",
              "        1., 1., 1., 1., 1., 1., 1., 1., 1., 1., 1., 1., 1., 1., 1., 1., 1., 1.,\n",
              "        1., 1., 1., 1., 1., 1., 1., 1., 1., 1., 1., 1., 1., 1., 1., 1., 1., 1.,\n",
              "        1., 1., 1., 1., 1., 1., 1., 1., 1., 1., 1., 1., 1., 1., 1., 1., 1., 1.,\n",
              "        1., 1., 1., 1., 1., 1., 1., 1., 1., 1., 1., 1., 1., 1., 1., 1., 1., 1.,\n",
              "        1., 1., 1., 1., 1., 1., 1., 1., 1., 1., 1., 1., 1., 1., 1., 1., 1., 1.,\n",
              "        1., 1., 1., 1., 1., 1., 1., 1., 1., 1., 1., 1., 1., 1., 1., 1., 1., 1.,\n",
              "        1., 1., 1., 1., 1., 1., 1., 1., 1., 1., 1., 1., 1., 1., 1., 1., 1., 1.,\n",
              "        1., 1., 1., 1., 1., 1., 1., 1., 1., 1., 1., 1., 1., 1., 1., 1., 1., 1.,\n",
              "        1., 1., 1., 1., 1., 1., 1., 1., 1., 1., 1., 1., 1., 1., 1., 1., 1., 1.,\n",
              "        1., 1., 1., 1., 1., 1., 1., 1., 1., 1., 1., 1., 1., 1., 1., 1., 1., 1.,\n",
              "        1., 1., 1., 1., 1., 1., 1., 1., 1., 1., 1., 1., 1., 1., 1., 1., 1., 1.,\n",
              "        1., 1., 1., 1., 1., 1., 1., 1., 1., 1., 1., 1., 1., 1., 1., 1., 1., 1.,\n",
              "        1., 1., 1., 1., 1., 1., 1., 1., 1., 1., 1., 1., 1., 1., 1., 1., 1., 1.,\n",
              "        1., 1., 1., 1., 1., 1., 1., 1., 1., 1., 1., 1., 1., 1., 1., 1., 1., 1.,\n",
              "        1., 1., 1., 1., 1., 1., 1., 1., 1., 1., 1., 1., 1., 1., 1., 1., 1., 1.,\n",
              "        1., 1., 1., 1., 1., 1., 1., 1., 1., 1., 1., 1., 1., 1., 1., 1., 1., 1.,\n",
              "        1., 1., 1., 1., 1., 1., 1., 1., 1., 1., 1., 1., 1., 1., 1., 1., 1., 1.,\n",
              "        1., 1., 1., 1., 1., 1., 1., 1., 1., 1., 1., 1., 1., 1., 1., 1., 1., 1.,\n",
              "        1., 1., 1., 1., 1., 1., 1., 1., 1., 1., 1., 1., 1., 1., 1., 1., 1., 1.,\n",
              "        1., 1., 1., 1., 1., 1., 1., 1., 1., 1., 1., 1., 1., 1., 1., 1., 1., 1.,\n",
              "        1., 1., 1., 1., 1., 1., 1., 1., 1., 1., 1., 1., 1., 1., 1., 1., 1., 1.,\n",
              "        1., 1., 1., 1., 1., 1., 1., 1., 1., 1., 1., 1., 1., 1., 1., 1., 1., 1.,\n",
              "        1., 1., 1., 1., 1., 1., 1., 1., 1., 1., 1., 1., 1., 1., 1., 1., 1., 1.,\n",
              "        1., 1., 1., 1., 1., 1., 1., 1., 1., 1., 1., 1., 1., 1., 1., 1., 1.])"
            ]
          },
          "metadata": {
            "tags": []
          },
          "execution_count": 211
        }
      ]
    },
    {
      "cell_type": "code",
      "metadata": {
        "colab": {
          "base_uri": "https://localhost:8080/"
        },
        "id": "xKwO7VUYbZPB",
        "outputId": "18583512-ae6e-4faa-821b-6eaaf264edf6"
      },
      "source": [
        "lbllist"
      ],
      "execution_count": 212,
      "outputs": [
        {
          "output_type": "execute_result",
          "data": {
            "text/plain": [
              "tensor([1., 0., 1., 1., 1., 1., 1., 1., 1., 0., 1., 0., 1., 1., 0., 0., 1., 1.,\n",
              "        1., 0., 0., 0., 0., 0., 0., 1., 0., 0., 0., 1., 0., 1., 1., 0., 0., 1.,\n",
              "        1., 1., 0., 1., 0., 1., 0., 1., 1., 1., 0., 1., 1., 0., 0., 1., 1., 1.,\n",
              "        0., 1., 0., 0., 0., 0., 1., 1., 0., 1., 1., 0., 1., 0., 0., 1., 1., 1.,\n",
              "        1., 0., 0., 0., 0., 1., 1., 0., 0., 1., 0., 0., 0., 1., 1., 0., 1., 1.,\n",
              "        0., 0., 0., 1., 1., 1., 1., 0., 0., 0., 0., 1., 0., 1., 0., 1., 0., 0.,\n",
              "        1., 1., 0., 1., 0., 1., 1., 0., 1., 1., 1., 1., 0., 0., 1., 1., 0., 0.,\n",
              "        0., 0., 0., 0., 1., 0., 0., 1., 0., 0., 0., 1., 0., 1., 1., 1., 0., 1.,\n",
              "        0., 0., 1., 0., 0., 0., 1., 1., 0., 0., 1., 0., 0., 0., 1., 1., 1., 1.,\n",
              "        1., 0., 1., 0., 1., 0., 1., 0., 1., 0., 1., 0., 1., 1., 0., 1., 0., 1.,\n",
              "        0., 1., 1., 0., 1., 0., 0., 1., 0., 1., 1., 0., 1., 0., 0., 1., 0., 1.,\n",
              "        0., 1., 0., 0., 0., 1., 0., 1., 1., 0., 0., 1., 0., 0., 1., 1., 1., 0.,\n",
              "        1., 0., 0., 1., 1., 1., 1., 1., 1., 0., 1., 1., 0., 1., 0., 0., 1., 1.,\n",
              "        1., 0., 0., 1., 1., 1., 0., 1., 0., 0., 1., 0., 1., 1., 1., 0., 1., 1.,\n",
              "        1., 0., 0., 1., 0., 0., 1., 1., 0., 1., 1., 0., 1., 1., 1., 0., 1., 1.,\n",
              "        1., 1., 0., 1., 0., 1., 1., 1., 0., 1., 1., 1., 1., 1., 0., 1., 1., 0.,\n",
              "        0., 1., 0., 1., 0., 1., 1., 1., 1., 1., 0., 0., 1., 1., 1., 1., 1., 0.,\n",
              "        1., 1., 1., 0., 0., 0., 1., 0., 0., 0., 1., 1., 1., 1., 1., 0., 0., 0.,\n",
              "        1., 0., 1., 0., 0., 1., 0., 1., 0., 0., 1., 0., 1., 1., 1., 1., 1., 1.,\n",
              "        0., 1., 1., 1., 1., 1., 1., 1., 1., 0., 1., 0., 0., 0., 1., 1., 0., 0.,\n",
              "        1., 1., 1., 1., 0., 0., 1., 0., 0., 1., 0., 1., 1., 0., 1., 0., 0., 0.,\n",
              "        0., 1., 0., 0., 1., 0., 1., 1., 1., 1., 1., 1., 1., 0., 1., 1., 0., 0.,\n",
              "        1., 0., 0., 0., 1., 1., 0., 1., 1., 0., 0., 0., 1., 0., 0., 1., 0., 0.,\n",
              "        0., 1., 1., 1., 1., 1., 0., 0., 0., 1., 0., 0., 0., 1., 1., 0., 0., 0.,\n",
              "        0., 0., 0., 1., 0., 0., 1., 0., 0., 0., 0., 1., 0., 0., 1., 1., 1., 0.,\n",
              "        0., 0., 0., 1., 0., 1., 0., 0., 1., 0., 1., 0., 0., 1., 0., 1., 1., 1.,\n",
              "        0., 0., 0., 1., 1., 1., 0., 1., 0., 0., 1., 1., 0., 1., 0., 1., 0., 0.,\n",
              "        1., 1., 0., 1., 0., 0., 0., 1., 1., 0., 0., 0., 0., 0., 1., 0., 1., 1.,\n",
              "        1., 0., 1., 0., 0., 0., 0., 0., 1., 1., 1., 1., 0., 0., 0., 1., 1., 0.,\n",
              "        1., 0., 0., 1., 0., 1., 0., 1., 0., 0., 0., 0., 1., 1., 1., 0., 0.])"
            ]
          },
          "metadata": {
            "tags": []
          },
          "execution_count": 212
        }
      ]
    },
    {
      "cell_type": "code",
      "metadata": {
        "id": "8ghtRiEec9Z0"
      },
      "source": [
        ""
      ],
      "execution_count": 212,
      "outputs": []
    },
    {
      "cell_type": "markdown",
      "metadata": {
        "id": "H1X3JqMDTBqW"
      },
      "source": [
        "# Trying out New Loss function for F1"
      ]
    },
    {
      "cell_type": "code",
      "metadata": {
        "id": "4F7x-46ISfG0"
      },
      "source": [
        "class OurModel2(nn.Module):\n",
        "    def __init__(self, input_size,  hidden_size, num_layers):\n",
        "        super(OurModel2, self).__init__()\n",
        "        num_layers = num_layers\n",
        "        self.input_size = input_size\n",
        "        self.hidden_size = hidden_size\n",
        "        self.lstm = nn.LSTM(self.input_size, self.hidden_size, num_layers, batch_first=True, bidirectional=False, dropout=0.5)\n",
        "        self.ff = nn.Linear(self.hidden_size, 256)\n",
        "        self.ff2 = nn.Linear(256,2)\n",
        "        self.dropout = nn.Dropout()\n",
        "\n",
        "        #need to change the loss function. \n",
        "    def forward(self, input):\n",
        "        output, (hn, cn) = self.lstm(input)\n",
        "        hn = self.dropout(hn[-1,:,:])\n",
        "        percent_change = self.ff(hn)\n",
        "        percent_change2 = self.ff2(percent_change)\n",
        "        return percent_change2\n",
        "\n",
        "model2 = OurModel2(15,512,2)"
      ],
      "execution_count": 260,
      "outputs": []
    },
    {
      "cell_type": "code",
      "metadata": {
        "colab": {
          "base_uri": "https://localhost:8080/"
        },
        "id": "JUyKbgXfS_br",
        "outputId": "3c9b2649-b0e8-4bc9-a7bd-63923f132bae"
      },
      "source": [
        "#define optimizer, loss function\n",
        "params2 = model2.parameters()\n",
        "optimizer2 = optim.Adam(params2)\n",
        "\n",
        "device = torch.device('cuda' if torch.cuda.is_available() else 'cpu')\n",
        "model2 = model2.to(device)\n",
        "\n",
        "print (device)"
      ],
      "execution_count": 261,
      "outputs": [
        {
          "output_type": "stream",
          "text": [
            "cuda\n"
          ],
          "name": "stdout"
        }
      ]
    },
    {
      "cell_type": "code",
      "metadata": {
        "id": "st_CSYZaRTgF"
      },
      "source": [
        "class F1_Loss(nn.Module):\n",
        "    '''Calculate F1 score. Can work with gpu tensors\n",
        "    \n",
        "    The original implmentation is written by Michal Haltuf on Kaggle.\n",
        "    \n",
        "    Returns\n",
        "    -------\n",
        "    torch.Tensor\n",
        "        `ndim` == 1. epsilon <= val <= 1\n",
        "    \n",
        "    Reference\n",
        "    ---------\n",
        "    - https://www.kaggle.com/rejpalcz/best-loss-function-for-f1-score-metric\n",
        "    - https://scikit-learn.org/stable/modules/generated/sklearn.metrics.f1_score.html#sklearn.metrics.f1_score\n",
        "    - https://discuss.pytorch.org/t/calculating-precision-recall-and-f1-score-in-case-of-multi-label-classification/28265/6\n",
        "    - http://www.ryanzhang.info/python/writing-your-own-loss-function-module-for-pytorch/\n",
        "    '''\n",
        "    def __init__(self, epsilon=1e-7):\n",
        "        super().__init__()\n",
        "        self.epsilon = epsilon\n",
        "        \n",
        "    def forward(self, y_pred, y_true,):\n",
        "        assert y_pred.ndim == 2\n",
        "        assert y_true.ndim == 1\n",
        "        y_true = F.one_hot(y_true, 2).to(torch.float32)\n",
        "        y_pred = F.softmax(y_pred, dim=1)\n",
        "        \n",
        "        tp = (y_true * y_pred).sum(dim=0).to(torch.float32)\n",
        "        tn = ((1 - y_true) * (1 - y_pred)).sum(dim=0).to(torch.float32)\n",
        "        fp = ((1 - y_true) * y_pred).sum(dim=0).to(torch.float32)\n",
        "        fn = (y_true * (1 - y_pred)).sum(dim=0).to(torch.float32)\n",
        "\n",
        "        precision = tp / (tp + fp + self.epsilon)\n",
        "        recall = tp / (tp + fn + self.epsilon)\n",
        "\n",
        "        f1 = 2* (precision*recall) / (precision + recall + self.epsilon)\n",
        "        f1 = f1.clamp(min=self.epsilon, max=1-self.epsilon)\n",
        "        return 1 - f1.mean()\n",
        "\n",
        "f1_loss = F1_Loss().cuda()"
      ],
      "execution_count": 262,
      "outputs": []
    },
    {
      "cell_type": "code",
      "metadata": {
        "id": "nE8DSIgDZF_c"
      },
      "source": [
        "def accuracy(preds, y):\n",
        "    \"\"\"\n",
        "    Returns accuracy per batch, i.e. if you get 8/10 right, this returns 0.8, NOT 8\n",
        "    \"\"\"\n",
        "\n",
        "    #round predictions to the closest integer\n",
        "    prediciton = F.softmax(preds, dim =1)\n",
        "    _, pred = torch.max(prediciton, 1)\n",
        "    correct = (pred == y).float() #convert into float for division \n",
        "    acc = correct.sum() / len(correct)\n",
        "    return acc"
      ],
      "execution_count": 263,
      "outputs": []
    },
    {
      "cell_type": "code",
      "metadata": {
        "id": "yqei424mRUV0"
      },
      "source": [
        "def train(model, train_batches, optimizer, criterion):\n",
        "    \n",
        "    epoch_loss = 0\n",
        "    epoch_acc = 0\n",
        "    \n",
        "    model.train()\n",
        "\n",
        "    for step, batch in enumerate(train_batches):\n",
        "        \n",
        "        optimizer.zero_grad()\n",
        "        \n",
        "        data, label = tuple(t for t in batch)\n",
        "\n",
        "        data = data.to(device)\n",
        "        label = label.to(device)\n",
        "\n",
        "        predictions = model(data)\n",
        "\n",
        "        loss = f1_loss(predictions, label.to(torch.int64))\n",
        "        \n",
        "        acc = accuracy(predictions, label)\n",
        "        \n",
        "        loss.backward()\n",
        "        \n",
        "        optimizer.step()\n",
        "        \n",
        "        epoch_loss += loss.item()\n",
        "        epoch_acc += acc.item()\n",
        "\n",
        "    return epoch_loss / len(train_batches), epoch_acc / len(train_batches)"
      ],
      "execution_count": 264,
      "outputs": []
    },
    {
      "cell_type": "code",
      "metadata": {
        "id": "27jsByaTa8uy"
      },
      "source": [
        "def evaluate(model, eval_batches, criterion):\n",
        "    \n",
        "    epoch_loss = 0\n",
        "    epoch_acc = 0\n",
        "    \n",
        "    model.eval()\n",
        "    \n",
        "    with torch.no_grad():\n",
        "    \n",
        "        for step, batch in enumerate(eval_batches):\n",
        "\n",
        "            data, label = tuple(t for t in batch)\n",
        "            data = data.to(device)\n",
        "            label = label.to(device)\n",
        "            \n",
        "            predictions = model(data)\n",
        "            \n",
        "            loss = f1_loss(predictions, label.to(torch.int64))\n",
        "           \n",
        "            acc = accuracy(predictions, label)\n",
        "\n",
        "            epoch_loss += loss.item()\n",
        "            epoch_acc += acc.item()\n",
        "        \n",
        "    return epoch_loss / len(eval_batches), epoch_acc / len(eval_batches)"
      ],
      "execution_count": 265,
      "outputs": []
    },
    {
      "cell_type": "code",
      "metadata": {
        "colab": {
          "base_uri": "https://localhost:8080/"
        },
        "id": "BBSjJMzVTxau",
        "outputId": "08dbf6be-78c8-49e3-8e8c-85c8aeca9d3d"
      },
      "source": [
        "import time\n",
        "\n",
        "def epoch_time(start_time, end_time):\n",
        "    elapsed_time = end_time - start_time\n",
        "    elapsed_mins = int(elapsed_time / 60)\n",
        "    elapsed_secs = int(elapsed_time - (elapsed_mins * 60))\n",
        "    return elapsed_mins, elapsed_secs\n",
        "\n",
        "N_EPOCHS = 10\n",
        "\n",
        "best_valid_loss = float('inf')\n",
        "\n",
        "for epoch in range(N_EPOCHS):\n",
        "\n",
        "    start_time = time.time()\n",
        "    \n",
        "    train_loss, train_acc = train(model2, train_batches, optimizer2, criterion)\n",
        "    valid_loss, valid_acc = evaluate(model2, eval_batches, criterion)\n",
        "    \n",
        "    end_time = time.time()\n",
        "\n",
        "    epoch_mins, epoch_secs = epoch_time(start_time, end_time)\n",
        "    \n",
        "    # if valid_loss < best_valid_loss:\n",
        "    #     best_valid_loss = valid_loss\n",
        "    #     torch.save(model.state_dict(), 'tut2-model.pt')\n",
        "    \n",
        "    print(f'Epoch: {epoch+1:02} | Epoch Time: {epoch_mins}m {epoch_secs}s')\n",
        "    print(f'\\t Train. Loss: {train_loss:.3f} |  Train. Acc: {train_acc*100:.2f}%')\n",
        "    print(f'\\t Val. Loss: {valid_loss:.3f} |  Val. Acc: {valid_acc*100:.2f}%')"
      ],
      "execution_count": 266,
      "outputs": [
        {
          "output_type": "stream",
          "text": [
            "Epoch: 01 | Epoch Time: 0m 0s\n",
            "\t Train. Loss: 0.507 |  Train. Acc: 52.66%\n",
            "\t Val. Loss: 0.507 |  Val. Acc: 48.64%\n",
            "Epoch: 02 | Epoch Time: 0m 0s\n",
            "\t Train. Loss: 0.504 |  Train. Acc: 52.95%\n",
            "\t Val. Loss: 0.504 |  Val. Acc: 48.64%\n",
            "Epoch: 03 | Epoch Time: 0m 0s\n",
            "\t Train. Loss: 0.506 |  Train. Acc: 51.38%\n",
            "\t Val. Loss: 0.503 |  Val. Acc: 48.64%\n",
            "Epoch: 04 | Epoch Time: 0m 0s\n",
            "\t Train. Loss: 0.506 |  Train. Acc: 53.35%\n",
            "\t Val. Loss: 0.503 |  Val. Acc: 48.64%\n",
            "Epoch: 05 | Epoch Time: 0m 0s\n",
            "\t Train. Loss: 0.500 |  Train. Acc: 55.30%\n",
            "\t Val. Loss: 0.503 |  Val. Acc: 48.64%\n",
            "Epoch: 06 | Epoch Time: 0m 0s\n",
            "\t Train. Loss: 0.507 |  Train. Acc: 52.26%\n",
            "\t Val. Loss: 0.502 |  Val. Acc: 51.36%\n",
            "Epoch: 07 | Epoch Time: 0m 0s\n",
            "\t Train. Loss: 0.507 |  Train. Acc: 52.56%\n",
            "\t Val. Loss: 0.503 |  Val. Acc: 51.36%\n",
            "Epoch: 08 | Epoch Time: 0m 0s\n",
            "\t Train. Loss: 0.506 |  Train. Acc: 51.44%\n",
            "\t Val. Loss: 0.514 |  Val. Acc: 51.36%\n",
            "Epoch: 09 | Epoch Time: 0m 0s\n",
            "\t Train. Loss: 0.506 |  Train. Acc: 50.97%\n",
            "\t Val. Loss: 0.506 |  Val. Acc: 51.36%\n",
            "Epoch: 10 | Epoch Time: 0m 0s\n",
            "\t Train. Loss: 0.507 |  Train. Acc: 50.11%\n",
            "\t Val. Loss: 0.504 |  Val. Acc: 51.36%\n"
          ],
          "name": "stdout"
        }
      ]
    },
    {
      "cell_type": "code",
      "metadata": {
        "id": "iUtzrPA4Vl-B"
      },
      "source": [
        ""
      ],
      "execution_count": 266,
      "outputs": []
    }
  ]
}