{
  "nbformat": 4,
  "nbformat_minor": 0,
  "metadata": {
    "colab": {
      "name": "price model with Pcent Input",
      "provenance": [],
      "collapsed_sections": [
        "WYalG82ITOko"
      ],
      "toc_visible": true,
      "authorship_tag": "ABX9TyPUrgjl0c7WRn47Ua/XC11h",
      "include_colab_link": true
    },
    "kernelspec": {
      "name": "python3",
      "display_name": "Python 3"
    },
    "accelerator": "GPU"
  },
  "cells": [
    {
      "cell_type": "markdown",
      "metadata": {
        "id": "view-in-github",
        "colab_type": "text"
      },
      "source": [
        "<a href=\"https://colab.research.google.com/github/YanzhaoZ/PreBit/blob/main/price_model_with_Pcent_Input.ipynb\" target=\"_parent\"><img src=\"https://colab.research.google.com/assets/colab-badge.svg\" alt=\"Open In Colab\"/></a>"
      ]
    },
    {
      "cell_type": "code",
      "metadata": {
        "id": "xCu4r2213B7q",
        "colab": {
          "base_uri": "https://localhost:8080/"
        },
        "outputId": "ed61f64d-70ed-4c0c-dbe6-633514cfa772"
      },
      "source": [
        "# from google.colab import drive\n",
        "# drive.mount('/content/gdrive')"
      ],
      "execution_count": null,
      "outputs": [
        {
          "output_type": "stream",
          "text": [
            "Drive already mounted at /content/gdrive; to attempt to forcibly remount, call drive.mount(\"/content/gdrive\", force_remount=True).\n"
          ],
          "name": "stdout"
        }
      ]
    },
    {
      "cell_type": "code",
      "metadata": {
        "id": "lc-7-zJw3Siv",
        "colab": {
          "base_uri": "https://localhost:8080/"
        },
        "outputId": "872565a1-2b70-4b1e-9874-443a5bce687c"
      },
      "source": [
        "!pip install yfinance\n",
        "import yfinance as yf\n",
        "import pandas as pd\n"
      ],
      "execution_count": 1,
      "outputs": [
        {
          "output_type": "stream",
          "text": [
            "Collecting yfinance\n",
            "  Downloading https://files.pythonhosted.org/packages/7a/e8/b9d7104d3a4bf39924799067592d9e59119fcfc900a425a12e80a3123ec8/yfinance-0.1.55.tar.gz\n",
            "Requirement already satisfied: pandas>=0.24 in /usr/local/lib/python3.6/dist-packages (from yfinance) (1.1.4)\n",
            "Requirement already satisfied: numpy>=1.15 in /usr/local/lib/python3.6/dist-packages (from yfinance) (1.18.5)\n",
            "Requirement already satisfied: requests>=2.20 in /usr/local/lib/python3.6/dist-packages (from yfinance) (2.23.0)\n",
            "Requirement already satisfied: multitasking>=0.0.7 in /usr/local/lib/python3.6/dist-packages (from yfinance) (0.0.9)\n",
            "Collecting lxml>=4.5.1\n",
            "\u001b[?25l  Downloading https://files.pythonhosted.org/packages/64/28/0b761b64ecbd63d272ed0e7a6ae6e4402fc37886b59181bfdf274424d693/lxml-4.6.1-cp36-cp36m-manylinux1_x86_64.whl (5.5MB)\n",
            "\u001b[K     |████████████████████████████████| 5.5MB 10.5MB/s \n",
            "\u001b[?25hRequirement already satisfied: pytz>=2017.2 in /usr/local/lib/python3.6/dist-packages (from pandas>=0.24->yfinance) (2018.9)\n",
            "Requirement already satisfied: python-dateutil>=2.7.3 in /usr/local/lib/python3.6/dist-packages (from pandas>=0.24->yfinance) (2.8.1)\n",
            "Requirement already satisfied: certifi>=2017.4.17 in /usr/local/lib/python3.6/dist-packages (from requests>=2.20->yfinance) (2020.11.8)\n",
            "Requirement already satisfied: urllib3!=1.25.0,!=1.25.1,<1.26,>=1.21.1 in /usr/local/lib/python3.6/dist-packages (from requests>=2.20->yfinance) (1.24.3)\n",
            "Requirement already satisfied: chardet<4,>=3.0.2 in /usr/local/lib/python3.6/dist-packages (from requests>=2.20->yfinance) (3.0.4)\n",
            "Requirement already satisfied: idna<3,>=2.5 in /usr/local/lib/python3.6/dist-packages (from requests>=2.20->yfinance) (2.10)\n",
            "Requirement already satisfied: six>=1.5 in /usr/local/lib/python3.6/dist-packages (from python-dateutil>=2.7.3->pandas>=0.24->yfinance) (1.15.0)\n",
            "Building wheels for collected packages: yfinance\n",
            "  Building wheel for yfinance (setup.py) ... \u001b[?25l\u001b[?25hdone\n",
            "  Created wheel for yfinance: filename=yfinance-0.1.55-py2.py3-none-any.whl size=22618 sha256=ebe676869ba1bb44ca6ba08264ef14a55b0d1736acba485e94a407ab53fa7543\n",
            "  Stored in directory: /root/.cache/pip/wheels/04/98/cc/2702a4242d60bdc14f48b4557c427ded1fe92aedf257d4565c\n",
            "Successfully built yfinance\n",
            "Installing collected packages: lxml, yfinance\n",
            "  Found existing installation: lxml 4.2.6\n",
            "    Uninstalling lxml-4.2.6:\n",
            "      Successfully uninstalled lxml-4.2.6\n",
            "Successfully installed lxml-4.6.1 yfinance-0.1.55\n"
          ],
          "name": "stdout"
        }
      ]
    },
    {
      "cell_type": "code",
      "metadata": {
        "id": "5Xma4YZj3tvk"
      },
      "source": [
        "import torch\n",
        "from torch.utils.data import TensorDataset, DataLoader\n",
        "import torch.nn as nn\n",
        "import torch.optim as optim\n",
        "\n",
        "import matplotlib.pyplot as plt\n",
        "import time\n",
        "\n",
        "from sklearn.metrics import confusion_matrix\n",
        "from sklearn.preprocessing import MinMaxScaler\n"
      ],
      "execution_count": 2,
      "outputs": []
    },
    {
      "cell_type": "markdown",
      "metadata": {
        "id": "bDVM1wj74Fp5"
      },
      "source": [
        "# Loading the Price Data"
      ]
    },
    {
      "cell_type": "code",
      "metadata": {
        "id": "X3c3XaB84IjI",
        "colab": {
          "base_uri": "https://localhost:8080/"
        },
        "outputId": "8d06913d-4f7a-44d8-e7df-de4c621f89b9"
      },
      "source": [
        "start_date ='2015-01-01'\n",
        "end_date = '2019-12-31'\n",
        "price = yf.download(\"BTC-USD\", start=start_date, end=end_date)\n",
        "\n",
        "#relative_price, will calculate the change in % compared to the day before. \n",
        "relative_price = (price/price.shift(1)-1)"
      ],
      "execution_count": 3,
      "outputs": [
        {
          "output_type": "stream",
          "text": [
            "\r[*********************100%***********************]  1 of 1 completed\n"
          ],
          "name": "stdout"
        }
      ]
    },
    {
      "cell_type": "code",
      "metadata": {
        "id": "LT3XXVz64TjA",
        "colab": {
          "base_uri": "https://localhost:8080/",
          "height": 235
        },
        "outputId": "ae82db72-c044-4123-9bbd-446a72fe9dc3"
      },
      "source": [
        "relative_price.head()"
      ],
      "execution_count": 4,
      "outputs": [
        {
          "output_type": "execute_result",
          "data": {
            "text/html": [
              "<div>\n",
              "<style scoped>\n",
              "    .dataframe tbody tr th:only-of-type {\n",
              "        vertical-align: middle;\n",
              "    }\n",
              "\n",
              "    .dataframe tbody tr th {\n",
              "        vertical-align: top;\n",
              "    }\n",
              "\n",
              "    .dataframe thead th {\n",
              "        text-align: right;\n",
              "    }\n",
              "</style>\n",
              "<table border=\"1\" class=\"dataframe\">\n",
              "  <thead>\n",
              "    <tr style=\"text-align: right;\">\n",
              "      <th></th>\n",
              "      <th>Open</th>\n",
              "      <th>High</th>\n",
              "      <th>Low</th>\n",
              "      <th>Close</th>\n",
              "      <th>Adj Close</th>\n",
              "      <th>Volume</th>\n",
              "    </tr>\n",
              "    <tr>\n",
              "      <th>Date</th>\n",
              "      <th></th>\n",
              "      <th></th>\n",
              "      <th></th>\n",
              "      <th></th>\n",
              "      <th></th>\n",
              "      <th></th>\n",
              "    </tr>\n",
              "  </thead>\n",
              "  <tbody>\n",
              "    <tr>\n",
              "      <th>2015-01-01</th>\n",
              "      <td>NaN</td>\n",
              "      <td>NaN</td>\n",
              "      <td>NaN</td>\n",
              "      <td>NaN</td>\n",
              "      <td>NaN</td>\n",
              "      <td>NaN</td>\n",
              "    </tr>\n",
              "    <tr>\n",
              "      <th>2015-01-02</th>\n",
              "      <td>-0.019835</td>\n",
              "      <td>-0.014343</td>\n",
              "      <td>-0.001395</td>\n",
              "      <td>0.002492</td>\n",
              "      <td>0.002492</td>\n",
              "      <td>-0.021888</td>\n",
              "    </tr>\n",
              "    <tr>\n",
              "      <th>2015-01-03</th>\n",
              "      <td>0.002442</td>\n",
              "      <td>-0.002181</td>\n",
              "      <td>-0.103593</td>\n",
              "      <td>-0.107767</td>\n",
              "      <td>-0.107767</td>\n",
              "      <td>3.205047</td>\n",
              "    </tr>\n",
              "    <tr>\n",
              "      <th>2015-01-04</th>\n",
              "      <td>-0.107036</td>\n",
              "      <td>-0.088593</td>\n",
              "      <td>-0.083499</td>\n",
              "      <td>-0.060079</td>\n",
              "      <td>-0.060079</td>\n",
              "      <td>0.682956</td>\n",
              "    </tr>\n",
              "    <tr>\n",
              "      <th>2015-01-05</th>\n",
              "      <td>-0.057130</td>\n",
              "      <td>-0.030947</td>\n",
              "      <td>0.029005</td>\n",
              "      <td>0.038907</td>\n",
              "      <td>0.038907</td>\n",
              "      <td>-0.209716</td>\n",
              "    </tr>\n",
              "  </tbody>\n",
              "</table>\n",
              "</div>"
            ],
            "text/plain": [
              "                Open      High       Low     Close  Adj Close    Volume\n",
              "Date                                                                   \n",
              "2015-01-01       NaN       NaN       NaN       NaN        NaN       NaN\n",
              "2015-01-02 -0.019835 -0.014343 -0.001395  0.002492   0.002492 -0.021888\n",
              "2015-01-03  0.002442 -0.002181 -0.103593 -0.107767  -0.107767  3.205047\n",
              "2015-01-04 -0.107036 -0.088593 -0.083499 -0.060079  -0.060079  0.682956\n",
              "2015-01-05 -0.057130 -0.030947  0.029005  0.038907   0.038907 -0.209716"
            ]
          },
          "metadata": {
            "tags": []
          },
          "execution_count": 4
        }
      ]
    },
    {
      "cell_type": "code",
      "metadata": {
        "id": "HVFcYkrn8V6J"
      },
      "source": [
        "#add in the label\n",
        "#I can start with the % change of the daily closing price, then create labels.\n",
        "#another way could be to look at the next day High vs today Close.  \n",
        "\n",
        "#setting price change threshold\n",
        "Threshold = 0\n",
        "\n",
        "price_2= price.Close.to_frame()\n",
        "price['change']=price_2.apply(lambda x: x.shift(-1)/x -1)\n",
        "price['change_label']=price['change'].apply (lambda x: x> Treshold )\n",
        "#NaN > 0 gives false? Perhaps I could drop na before this step? \n",
        "\n",
        "\n",
        "#copy the label to relative_price part as well. \n",
        "relative_price['change'] = price['change']\n",
        "relative_price['change_label']=price['change_label']"
      ],
      "execution_count": 5,
      "outputs": []
    },
    {
      "cell_type": "code",
      "metadata": {
        "id": "DsjYzgecBezO",
        "colab": {
          "base_uri": "https://localhost:8080/"
        },
        "outputId": "794d59ad-9d2a-4e9c-9522-fc035b34e21d"
      },
      "source": [
        "print (len(price),len(relative_price))"
      ],
      "execution_count": 6,
      "outputs": [
        {
          "output_type": "stream",
          "text": [
            "1826 1826\n"
          ],
          "name": "stdout"
        }
      ]
    },
    {
      "cell_type": "code",
      "metadata": {
        "id": "JUHGLoLbAaRo"
      },
      "source": [
        "price = price.dropna()\n",
        "relative_price = relative_price.dropna()"
      ],
      "execution_count": 7,
      "outputs": []
    },
    {
      "cell_type": "code",
      "metadata": {
        "id": "LIfAXYnnAfNC",
        "colab": {
          "base_uri": "https://localhost:8080/"
        },
        "outputId": "b9c43706-bd20-481b-d04f-d67c4d57d026"
      },
      "source": [
        "#price would lose the last day, because no information on next day price to create the label\n",
        "#relative price, would ALSO lose the first day, because no information to calculate the relative changes .\n",
        "print (len(price),len(relative_price))"
      ],
      "execution_count": 8,
      "outputs": [
        {
          "output_type": "stream",
          "text": [
            "1825 1824\n"
          ],
          "name": "stdout"
        }
      ]
    },
    {
      "cell_type": "code",
      "metadata": {
        "colab": {
          "base_uri": "https://localhost:8080/"
        },
        "id": "liUvoa7Gis8a",
        "outputId": "d47a813d-2a73-4f8e-99a3-cd00492052d2"
      },
      "source": [
        "relative_price['change_label'].value_counts()"
      ],
      "execution_count": 9,
      "outputs": [
        {
          "output_type": "execute_result",
          "data": {
            "text/plain": [
              "True     1000\n",
              "False     824\n",
              "Name: change_label, dtype: int64"
            ]
          },
          "metadata": {
            "tags": []
          },
          "execution_count": 9
        }
      ]
    },
    {
      "cell_type": "markdown",
      "metadata": {
        "id": "WYalG82ITOko"
      },
      "source": [
        "# Adding in technical indicators"
      ]
    },
    {
      "cell_type": "code",
      "metadata": {
        "id": "WDgrd_QYTfDb"
      },
      "source": [
        "def get_technical_indicators(dataset):\n",
        "    # Create 7 and 21 days Moving Average\n",
        "    dataset['ma7'] = dataset['Close'].rolling(window=7).mean()\n",
        "    dataset['ma21'] = dataset['Close'].rolling(window=21).mean()\n",
        "    \n",
        "    # Create MACD\n",
        "    #dataset['26ema'] = pd.ewma(dataset['Close'], span=26)\n",
        "    dataset['26ema'] = dataset['Close'].ewm(span=26).mean()\n",
        "    #dataset['12ema'] = pd.ewma(dataset['Close'], span=12)\n",
        "    dataset['12ema'] = dataset['Close'].ewm(span=12).mean()\n",
        "    dataset['MACD'] = (dataset['12ema']-dataset['26ema'])\n",
        "\n",
        "    # Create Bollinger Bands\n",
        "    #dataset['20sd'] = pd.stats.moments.rolling_std(dataset['Close'],20)\n",
        "    dataset['20sd'] = dataset[\"Close\"].rolling(window=20).std()\n",
        "    dataset['upper_band'] = dataset['ma21'] + (dataset['20sd']*2)\n",
        "    dataset['lower_band'] = dataset['ma21'] - (dataset['20sd']*2)\n",
        "    \n",
        "    # Create Exponential moving average\n",
        "    dataset['ema'] = dataset['Close'].ewm(com=0.5).mean()\n",
        "    \n",
        "    # Create Momentum\n",
        "    #dataset['momentum'] = dataset['Close']-1\n",
        "    \n",
        "    return dataset"
      ],
      "execution_count": 10,
      "outputs": []
    },
    {
      "cell_type": "code",
      "metadata": {
        "id": "IScz7sVyTesK"
      },
      "source": [
        "price_processed = get_technical_indicators(price)\n",
        "#price.head()"
      ],
      "execution_count": null,
      "outputs": []
    },
    {
      "cell_type": "code",
      "metadata": {
        "colab": {
          "base_uri": "https://localhost:8080/",
          "height": 345
        },
        "id": "dn7FwTfraQGt",
        "outputId": "edb3f963-dd95-49f3-f741-d12c04f7fec5"
      },
      "source": [
        "price_processed.tail()"
      ],
      "execution_count": null,
      "outputs": [
        {
          "output_type": "execute_result",
          "data": {
            "text/html": [
              "<div>\n",
              "<style scoped>\n",
              "    .dataframe tbody tr th:only-of-type {\n",
              "        vertical-align: middle;\n",
              "    }\n",
              "\n",
              "    .dataframe tbody tr th {\n",
              "        vertical-align: top;\n",
              "    }\n",
              "\n",
              "    .dataframe thead th {\n",
              "        text-align: right;\n",
              "    }\n",
              "</style>\n",
              "<table border=\"1\" class=\"dataframe\">\n",
              "  <thead>\n",
              "    <tr style=\"text-align: right;\">\n",
              "      <th></th>\n",
              "      <th>Open</th>\n",
              "      <th>High</th>\n",
              "      <th>Low</th>\n",
              "      <th>Close</th>\n",
              "      <th>Adj Close</th>\n",
              "      <th>Volume</th>\n",
              "      <th>change</th>\n",
              "      <th>change_label</th>\n",
              "      <th>ma7</th>\n",
              "      <th>ma21</th>\n",
              "      <th>26ema</th>\n",
              "      <th>12ema</th>\n",
              "      <th>MACD</th>\n",
              "      <th>20sd</th>\n",
              "      <th>upper_band</th>\n",
              "      <th>lower_band</th>\n",
              "      <th>ema</th>\n",
              "    </tr>\n",
              "    <tr>\n",
              "      <th>Date</th>\n",
              "      <th></th>\n",
              "      <th></th>\n",
              "      <th></th>\n",
              "      <th></th>\n",
              "      <th></th>\n",
              "      <th></th>\n",
              "      <th></th>\n",
              "      <th></th>\n",
              "      <th></th>\n",
              "      <th></th>\n",
              "      <th></th>\n",
              "      <th></th>\n",
              "      <th></th>\n",
              "      <th></th>\n",
              "      <th></th>\n",
              "      <th></th>\n",
              "      <th></th>\n",
              "    </tr>\n",
              "  </thead>\n",
              "  <tbody>\n",
              "    <tr>\n",
              "      <th>2019-12-25</th>\n",
              "      <td>7325.755859</td>\n",
              "      <td>7357.020020</td>\n",
              "      <td>7220.991211</td>\n",
              "      <td>7275.155762</td>\n",
              "      <td>7275.155762</td>\n",
              "      <td>21559505148</td>\n",
              "      <td>-0.004974</td>\n",
              "      <td>False</td>\n",
              "      <td>7296.817801</td>\n",
              "      <td>7272.840518</td>\n",
              "      <td>7368.426134</td>\n",
              "      <td>7267.012086</td>\n",
              "      <td>-101.414048</td>\n",
              "      <td>216.709771</td>\n",
              "      <td>7706.260059</td>\n",
              "      <td>6839.420977</td>\n",
              "      <td>7296.493060</td>\n",
              "    </tr>\n",
              "    <tr>\n",
              "      <th>2019-12-26</th>\n",
              "      <td>7274.799316</td>\n",
              "      <td>7388.302734</td>\n",
              "      <td>7200.386719</td>\n",
              "      <td>7238.966797</td>\n",
              "      <td>7238.966797</td>\n",
              "      <td>22787010034</td>\n",
              "      <td>0.007062</td>\n",
              "      <td>True</td>\n",
              "      <td>7301.978167</td>\n",
              "      <td>7262.871908</td>\n",
              "      <td>7358.836553</td>\n",
              "      <td>7262.697426</td>\n",
              "      <td>-96.139127</td>\n",
              "      <td>206.236480</td>\n",
              "      <td>7675.344867</td>\n",
              "      <td>6850.398948</td>\n",
              "      <td>7258.142218</td>\n",
              "    </tr>\n",
              "    <tr>\n",
              "      <th>2019-12-27</th>\n",
              "      <td>7238.141113</td>\n",
              "      <td>7363.529297</td>\n",
              "      <td>7189.934082</td>\n",
              "      <td>7290.088379</td>\n",
              "      <td>7290.088379</td>\n",
              "      <td>22777360995</td>\n",
              "      <td>0.003827</td>\n",
              "      <td>True</td>\n",
              "      <td>7312.159877</td>\n",
              "      <td>7250.638184</td>\n",
              "      <td>7353.744096</td>\n",
              "      <td>7266.911419</td>\n",
              "      <td>-86.832677</td>\n",
              "      <td>193.541738</td>\n",
              "      <td>7637.721659</td>\n",
              "      <td>6863.554708</td>\n",
              "      <td>7279.439659</td>\n",
              "    </tr>\n",
              "    <tr>\n",
              "      <th>2019-12-28</th>\n",
              "      <td>7289.031250</td>\n",
              "      <td>7399.041016</td>\n",
              "      <td>7286.905273</td>\n",
              "      <td>7317.990234</td>\n",
              "      <td>7317.990234</td>\n",
              "      <td>21365673026</td>\n",
              "      <td>0.014302</td>\n",
              "      <td>True</td>\n",
              "      <td>7330.278669</td>\n",
              "      <td>7239.293062</td>\n",
              "      <td>7351.095662</td>\n",
              "      <td>7274.769698</td>\n",
              "      <td>-76.325964</td>\n",
              "      <td>178.778125</td>\n",
              "      <td>7596.849312</td>\n",
              "      <td>6881.736812</td>\n",
              "      <td>7305.140042</td>\n",
              "    </tr>\n",
              "    <tr>\n",
              "      <th>2019-12-29</th>\n",
              "      <td>7317.647461</td>\n",
              "      <td>7513.948242</td>\n",
              "      <td>7279.865234</td>\n",
              "      <td>7422.652832</td>\n",
              "      <td>7422.652832</td>\n",
              "      <td>22445257701</td>\n",
              "      <td>-0.017468</td>\n",
              "      <td>False</td>\n",
              "      <td>7317.573521</td>\n",
              "      <td>7232.545805</td>\n",
              "      <td>7356.396193</td>\n",
              "      <td>7297.520949</td>\n",
              "      <td>-58.875243</td>\n",
              "      <td>179.979293</td>\n",
              "      <td>7592.504391</td>\n",
              "      <td>6872.587219</td>\n",
              "      <td>7383.481902</td>\n",
              "    </tr>\n",
              "  </tbody>\n",
              "</table>\n",
              "</div>"
            ],
            "text/plain": [
              "                   Open         High  ...   lower_band          ema\n",
              "Date                                  ...                          \n",
              "2019-12-25  7325.755859  7357.020020  ...  6839.420977  7296.493060\n",
              "2019-12-26  7274.799316  7388.302734  ...  6850.398948  7258.142218\n",
              "2019-12-27  7238.141113  7363.529297  ...  6863.554708  7279.439659\n",
              "2019-12-28  7289.031250  7399.041016  ...  6881.736812  7305.140042\n",
              "2019-12-29  7317.647461  7513.948242  ...  6872.587219  7383.481902\n",
              "\n",
              "[5 rows x 17 columns]"
            ]
          },
          "metadata": {
            "tags": []
          },
          "execution_count": 56
        }
      ]
    },
    {
      "cell_type": "code",
      "metadata": {
        "colab": {
          "base_uri": "https://localhost:8080/"
        },
        "id": "W9O4ZSa0djOy",
        "outputId": "b94b977b-e0a1-4cfa-8fcc-829c0bd5a8a3"
      },
      "source": [
        "price_processed = price_processed.dropna()\n",
        "price_processed.isnull().value_counts()"
      ],
      "execution_count": null,
      "outputs": [
        {
          "output_type": "execute_result",
          "data": {
            "text/plain": [
              "Open   High   Low    Close  Adj Close  Volume  change  change_label  ma7    ma21   26ema  12ema  MACD   20sd   upper_band  lower_band  ema  \n",
              "False  False  False  False  False      False   False   False         False  False  False  False  False  False  False       False       False    1784\n",
              "dtype: int64"
            ]
          },
          "metadata": {
            "tags": []
          },
          "execution_count": 57
        }
      ]
    },
    {
      "cell_type": "code",
      "metadata": {
        "colab": {
          "base_uri": "https://localhost:8080/",
          "height": 362
        },
        "id": "ytSx4T9xkIRU",
        "outputId": "3234c0fc-393e-4763-bc89-f2c14f85a1a6"
      },
      "source": [
        "price_processed.head()\n",
        "#although I'm not very sure about how 26ema can be calculated when I don't have 26 days of data before this day ? \n",
        "#and ema, with this particular set up, seems a bit off? : https://stackoverflow.com/questions/37924377/does-pandas-calculate-ewm-wrong\n",
        "#the link above provides an alternate view, but I think with the amount of days I have, it shouldn't really matter that much. \n",
        "#Let's keep going w/o it first. "
      ],
      "execution_count": null,
      "outputs": [
        {
          "output_type": "execute_result",
          "data": {
            "text/html": [
              "<div>\n",
              "<style scoped>\n",
              "    .dataframe tbody tr th:only-of-type {\n",
              "        vertical-align: middle;\n",
              "    }\n",
              "\n",
              "    .dataframe tbody tr th {\n",
              "        vertical-align: top;\n",
              "    }\n",
              "\n",
              "    .dataframe thead th {\n",
              "        text-align: right;\n",
              "    }\n",
              "</style>\n",
              "<table border=\"1\" class=\"dataframe\">\n",
              "  <thead>\n",
              "    <tr style=\"text-align: right;\">\n",
              "      <th></th>\n",
              "      <th>Open</th>\n",
              "      <th>High</th>\n",
              "      <th>Low</th>\n",
              "      <th>Close</th>\n",
              "      <th>Adj Close</th>\n",
              "      <th>Volume</th>\n",
              "      <th>change</th>\n",
              "      <th>change_label</th>\n",
              "      <th>ma7</th>\n",
              "      <th>ma21</th>\n",
              "      <th>26ema</th>\n",
              "      <th>12ema</th>\n",
              "      <th>MACD</th>\n",
              "      <th>20sd</th>\n",
              "      <th>upper_band</th>\n",
              "      <th>lower_band</th>\n",
              "      <th>ema</th>\n",
              "    </tr>\n",
              "    <tr>\n",
              "      <th>Date</th>\n",
              "      <th></th>\n",
              "      <th></th>\n",
              "      <th></th>\n",
              "      <th></th>\n",
              "      <th></th>\n",
              "      <th></th>\n",
              "      <th></th>\n",
              "      <th></th>\n",
              "      <th></th>\n",
              "      <th></th>\n",
              "      <th></th>\n",
              "      <th></th>\n",
              "      <th></th>\n",
              "      <th></th>\n",
              "      <th></th>\n",
              "      <th></th>\n",
              "      <th></th>\n",
              "    </tr>\n",
              "  </thead>\n",
              "  <tbody>\n",
              "    <tr>\n",
              "      <th>2015-02-10</th>\n",
              "      <td>220.281998</td>\n",
              "      <td>221.807007</td>\n",
              "      <td>215.332001</td>\n",
              "      <td>219.839005</td>\n",
              "      <td>219.839005</td>\n",
              "      <td>21115100</td>\n",
              "      <td>-0.002975</td>\n",
              "      <td>False</td>\n",
              "      <td>222.477857</td>\n",
              "      <td>232.991715</td>\n",
              "      <td>229.198966</td>\n",
              "      <td>225.709504</td>\n",
              "      <td>-3.489462</td>\n",
              "      <td>15.323515</td>\n",
              "      <td>263.638745</td>\n",
              "      <td>202.344686</td>\n",
              "      <td>220.382635</td>\n",
              "    </tr>\n",
              "    <tr>\n",
              "      <th>2015-02-11</th>\n",
              "      <td>219.731995</td>\n",
              "      <td>223.406006</td>\n",
              "      <td>218.074005</td>\n",
              "      <td>219.184998</td>\n",
              "      <td>219.184998</td>\n",
              "      <td>17201900</td>\n",
              "      <td>0.011766</td>\n",
              "      <td>True</td>\n",
              "      <td>221.382429</td>\n",
              "      <td>232.624477</td>\n",
              "      <td>228.289994</td>\n",
              "      <td>224.679632</td>\n",
              "      <td>-3.610362</td>\n",
              "      <td>15.644742</td>\n",
              "      <td>263.913961</td>\n",
              "      <td>201.334992</td>\n",
              "      <td>219.584210</td>\n",
              "    </tr>\n",
              "    <tr>\n",
              "      <th>2015-02-12</th>\n",
              "      <td>219.207993</td>\n",
              "      <td>222.199005</td>\n",
              "      <td>217.613998</td>\n",
              "      <td>221.764008</td>\n",
              "      <td>221.764008</td>\n",
              "      <td>15206200</td>\n",
              "      <td>0.061611</td>\n",
              "      <td>True</td>\n",
              "      <td>222.047145</td>\n",
              "      <td>232.070096</td>\n",
              "      <td>227.707355</td>\n",
              "      <td>224.221244</td>\n",
              "      <td>-3.486111</td>\n",
              "      <td>15.830085</td>\n",
              "      <td>263.730267</td>\n",
              "      <td>200.409925</td>\n",
              "      <td>221.037408</td>\n",
              "    </tr>\n",
              "    <tr>\n",
              "      <th>2015-02-13</th>\n",
              "      <td>221.968994</td>\n",
              "      <td>240.259003</td>\n",
              "      <td>221.261993</td>\n",
              "      <td>235.427002</td>\n",
              "      <td>235.427002</td>\n",
              "      <td>42744400</td>\n",
              "      <td>0.092997</td>\n",
              "      <td>True</td>\n",
              "      <td>223.927288</td>\n",
              "      <td>232.191430</td>\n",
              "      <td>228.386241</td>\n",
              "      <td>225.977068</td>\n",
              "      <td>-2.409173</td>\n",
              "      <td>15.415100</td>\n",
              "      <td>263.021630</td>\n",
              "      <td>201.361229</td>\n",
              "      <td>230.630471</td>\n",
              "    </tr>\n",
              "    <tr>\n",
              "      <th>2015-02-14</th>\n",
              "      <td>235.528000</td>\n",
              "      <td>259.808014</td>\n",
              "      <td>235.528000</td>\n",
              "      <td>257.321014</td>\n",
              "      <td>257.321014</td>\n",
              "      <td>49732500</td>\n",
              "      <td>-0.087424</td>\n",
              "      <td>False</td>\n",
              "      <td>228.151147</td>\n",
              "      <td>232.642573</td>\n",
              "      <td>230.896032</td>\n",
              "      <td>230.874410</td>\n",
              "      <td>-0.021622</td>\n",
              "      <td>15.707818</td>\n",
              "      <td>264.058209</td>\n",
              "      <td>201.226937</td>\n",
              "      <td>248.424167</td>\n",
              "    </tr>\n",
              "  </tbody>\n",
              "</table>\n",
              "</div>"
            ],
            "text/plain": [
              "                  Open        High  ...  lower_band         ema\n",
              "Date                                ...                        \n",
              "2015-02-10  220.281998  221.807007  ...  202.344686  220.382635\n",
              "2015-02-11  219.731995  223.406006  ...  201.334992  219.584210\n",
              "2015-02-12  219.207993  222.199005  ...  200.409925  221.037408\n",
              "2015-02-13  221.968994  240.259003  ...  201.361229  230.630471\n",
              "2015-02-14  235.528000  259.808014  ...  201.226937  248.424167\n",
              "\n",
              "[5 rows x 17 columns]"
            ]
          },
          "metadata": {
            "tags": []
          },
          "execution_count": 58
        }
      ]
    },
    {
      "cell_type": "code",
      "metadata": {
        "id": "bqV8t9jfaX2Q"
      },
      "source": [
        "#visualise the chart\n",
        "def plot_technical_indicators(dataset, last_days):\n",
        "    plt.figure(figsize=(16, 10), dpi=100)\n",
        "    shape_0 = dataset.shape[0]\n",
        "    xmacd_ = shape_0-last_days\n",
        "    \n",
        "    dataset = dataset.iloc[-last_days:, :]\n",
        "    x_ = range(3, dataset.shape[0])\n",
        "    x_ =list(dataset.index)\n",
        "    \n",
        "    # Plot first subplot\n",
        "    plt.subplot(2, 1, 1)\n",
        "    plt.plot(dataset['ma7'],label='MA 7', color='g',linestyle='--')\n",
        "    plt.plot(dataset['Close'],label='Closing Price', color='b')\n",
        "    plt.plot(dataset['ma21'],label='MA 21', color='r',linestyle='--')\n",
        "    plt.plot(dataset['upper_band'],label='Upper Band', color='c')\n",
        "    plt.plot(dataset['lower_band'],label='Lower Band', color='c')\n",
        "    plt.fill_between(x_, dataset['lower_band'], dataset['upper_band'], alpha=0.35)\n",
        "    plt.title('Technical indicators for Goldman Sachs - last {} days.'.format(last_days))\n",
        "    plt.ylabel('USD')\n",
        "    plt.legend()\n",
        "\n",
        "    # Plot second subplot\n",
        "    plt.subplot(2, 1, 2)\n",
        "    plt.title('MACD')\n",
        "    plt.plot(dataset['MACD'],label='MACD', linestyle='-.')\n",
        "    # plt.hlines(15, xmacd_, shape_0, colors='g', linestyles='--')\n",
        "    # plt.hlines(-15, xmacd_, shape_0, colors='g', linestyles='--')\n",
        "    #plt.plot(dataset['log_momentum'],label='Momentum', color='b',linestyle='-')\n",
        "\n",
        "    plt.legend()\n",
        "    plt.show()"
      ],
      "execution_count": null,
      "outputs": []
    },
    {
      "cell_type": "code",
      "metadata": {
        "colab": {
          "base_uri": "https://localhost:8080/",
          "height": 838
        },
        "id": "WfwKoSota1bR",
        "outputId": "df34a922-5f2e-4fc8-d313-c8e935dc7ce4"
      },
      "source": [
        "plot_technical_indicators(price_processed, 400)"
      ],
      "execution_count": null,
      "outputs": [
        {
          "output_type": "display_data",
          "data": {
            "image/png": "[encoded data removed]",
            "text/plain": [
              "<Figure size 1600x1000 with 2 Axes>"
            ]
          },
          "metadata": {
            "tags": [],
            "needs_background": "light"
          }
        }
      ]
    },
    {
      "cell_type": "code",
      "metadata": {
        "colab": {
          "base_uri": "https://localhost:8080/",
          "height": 362
        },
        "id": "sPy9BNTbpP6X",
        "outputId": "6ca9a95b-8f58-4bef-e182-cc9670aa1b76"
      },
      "source": [
        "price_processed.head()"
      ],
      "execution_count": null,
      "outputs": [
        {
          "output_type": "execute_result",
          "data": {
            "text/html": [
              "<div>\n",
              "<style scoped>\n",
              "    .dataframe tbody tr th:only-of-type {\n",
              "        vertical-align: middle;\n",
              "    }\n",
              "\n",
              "    .dataframe tbody tr th {\n",
              "        vertical-align: top;\n",
              "    }\n",
              "\n",
              "    .dataframe thead th {\n",
              "        text-align: right;\n",
              "    }\n",
              "</style>\n",
              "<table border=\"1\" class=\"dataframe\">\n",
              "  <thead>\n",
              "    <tr style=\"text-align: right;\">\n",
              "      <th></th>\n",
              "      <th>Open</th>\n",
              "      <th>High</th>\n",
              "      <th>Low</th>\n",
              "      <th>Close</th>\n",
              "      <th>Adj Close</th>\n",
              "      <th>Volume</th>\n",
              "      <th>change</th>\n",
              "      <th>change_label</th>\n",
              "      <th>ma7</th>\n",
              "      <th>ma21</th>\n",
              "      <th>26ema</th>\n",
              "      <th>12ema</th>\n",
              "      <th>MACD</th>\n",
              "      <th>20sd</th>\n",
              "      <th>upper_band</th>\n",
              "      <th>lower_band</th>\n",
              "      <th>ema</th>\n",
              "    </tr>\n",
              "    <tr>\n",
              "      <th>Date</th>\n",
              "      <th></th>\n",
              "      <th></th>\n",
              "      <th></th>\n",
              "      <th></th>\n",
              "      <th></th>\n",
              "      <th></th>\n",
              "      <th></th>\n",
              "      <th></th>\n",
              "      <th></th>\n",
              "      <th></th>\n",
              "      <th></th>\n",
              "      <th></th>\n",
              "      <th></th>\n",
              "      <th></th>\n",
              "      <th></th>\n",
              "      <th></th>\n",
              "      <th></th>\n",
              "    </tr>\n",
              "  </thead>\n",
              "  <tbody>\n",
              "    <tr>\n",
              "      <th>2015-02-10</th>\n",
              "      <td>220.281998</td>\n",
              "      <td>221.807007</td>\n",
              "      <td>215.332001</td>\n",
              "      <td>219.839005</td>\n",
              "      <td>219.839005</td>\n",
              "      <td>21115100</td>\n",
              "      <td>-0.002975</td>\n",
              "      <td>False</td>\n",
              "      <td>222.477857</td>\n",
              "      <td>232.991715</td>\n",
              "      <td>229.198966</td>\n",
              "      <td>225.709504</td>\n",
              "      <td>-3.489462</td>\n",
              "      <td>15.323515</td>\n",
              "      <td>263.638745</td>\n",
              "      <td>202.344686</td>\n",
              "      <td>220.382635</td>\n",
              "    </tr>\n",
              "    <tr>\n",
              "      <th>2015-02-11</th>\n",
              "      <td>219.731995</td>\n",
              "      <td>223.406006</td>\n",
              "      <td>218.074005</td>\n",
              "      <td>219.184998</td>\n",
              "      <td>219.184998</td>\n",
              "      <td>17201900</td>\n",
              "      <td>0.011766</td>\n",
              "      <td>True</td>\n",
              "      <td>221.382429</td>\n",
              "      <td>232.624477</td>\n",
              "      <td>228.289994</td>\n",
              "      <td>224.679632</td>\n",
              "      <td>-3.610362</td>\n",
              "      <td>15.644742</td>\n",
              "      <td>263.913961</td>\n",
              "      <td>201.334992</td>\n",
              "      <td>219.584210</td>\n",
              "    </tr>\n",
              "    <tr>\n",
              "      <th>2015-02-12</th>\n",
              "      <td>219.207993</td>\n",
              "      <td>222.199005</td>\n",
              "      <td>217.613998</td>\n",
              "      <td>221.764008</td>\n",
              "      <td>221.764008</td>\n",
              "      <td>15206200</td>\n",
              "      <td>0.061611</td>\n",
              "      <td>True</td>\n",
              "      <td>222.047145</td>\n",
              "      <td>232.070096</td>\n",
              "      <td>227.707355</td>\n",
              "      <td>224.221244</td>\n",
              "      <td>-3.486111</td>\n",
              "      <td>15.830085</td>\n",
              "      <td>263.730267</td>\n",
              "      <td>200.409925</td>\n",
              "      <td>221.037408</td>\n",
              "    </tr>\n",
              "    <tr>\n",
              "      <th>2015-02-13</th>\n",
              "      <td>221.968994</td>\n",
              "      <td>240.259003</td>\n",
              "      <td>221.261993</td>\n",
              "      <td>235.427002</td>\n",
              "      <td>235.427002</td>\n",
              "      <td>42744400</td>\n",
              "      <td>0.092997</td>\n",
              "      <td>True</td>\n",
              "      <td>223.927288</td>\n",
              "      <td>232.191430</td>\n",
              "      <td>228.386241</td>\n",
              "      <td>225.977068</td>\n",
              "      <td>-2.409173</td>\n",
              "      <td>15.415100</td>\n",
              "      <td>263.021630</td>\n",
              "      <td>201.361229</td>\n",
              "      <td>230.630471</td>\n",
              "    </tr>\n",
              "    <tr>\n",
              "      <th>2015-02-14</th>\n",
              "      <td>235.528000</td>\n",
              "      <td>259.808014</td>\n",
              "      <td>235.528000</td>\n",
              "      <td>257.321014</td>\n",
              "      <td>257.321014</td>\n",
              "      <td>49732500</td>\n",
              "      <td>-0.087424</td>\n",
              "      <td>False</td>\n",
              "      <td>228.151147</td>\n",
              "      <td>232.642573</td>\n",
              "      <td>230.896032</td>\n",
              "      <td>230.874410</td>\n",
              "      <td>-0.021622</td>\n",
              "      <td>15.707818</td>\n",
              "      <td>264.058209</td>\n",
              "      <td>201.226937</td>\n",
              "      <td>248.424167</td>\n",
              "    </tr>\n",
              "  </tbody>\n",
              "</table>\n",
              "</div>"
            ],
            "text/plain": [
              "                  Open        High  ...  lower_band         ema\n",
              "Date                                ...                        \n",
              "2015-02-10  220.281998  221.807007  ...  202.344686  220.382635\n",
              "2015-02-11  219.731995  223.406006  ...  201.334992  219.584210\n",
              "2015-02-12  219.207993  222.199005  ...  200.409925  221.037408\n",
              "2015-02-13  221.968994  240.259003  ...  201.361229  230.630471\n",
              "2015-02-14  235.528000  259.808014  ...  201.226937  248.424167\n",
              "\n",
              "[5 rows x 17 columns]"
            ]
          },
          "metadata": {
            "tags": []
          },
          "execution_count": 61
        }
      ]
    },
    {
      "cell_type": "markdown",
      "metadata": {
        "id": "UZb0Sy17pQ6i"
      },
      "source": [
        "# Format data for model"
      ]
    },
    {
      "cell_type": "code",
      "metadata": {
        "id": "h2zSOEWwCmOa"
      },
      "source": [
        "#now perhaps convert them to a list, and then tensor, to proceed to process the price data? \n",
        "\n",
        "x_input=relative_price.drop(['change','change_label'],axis=1).values\n",
        "\n",
        "# scaler = MinMaxScaler()\n",
        "# x_input= scaler.fit_transform(x_input)\n",
        "x_input=x_input.tolist()\n",
        "\n",
        "x_label=relative_price['change_label'].values\n",
        "x_label=x_label.reshape(-1,).tolist()\n",
        "#try to encode label \n",
        "x_label = [1 if x else 0 for x in x_label]\n"
      ],
      "execution_count": 12,
      "outputs": []
    },
    {
      "cell_type": "code",
      "metadata": {
        "colab": {
          "base_uri": "https://localhost:8080/"
        },
        "id": "eEHBjRo3DKK9",
        "outputId": "d0d0ebeb-80ee-4b5b-e2eb-2c60a0d72861"
      },
      "source": [
        "x_input[0]"
      ],
      "execution_count": 13,
      "outputs": [
        {
          "output_type": "execute_result",
          "data": {
            "text/plain": [
              "[-0.019835497362194032,\n",
              " -0.01434302849500968,\n",
              " -0.0013948538523216314,\n",
              " 0.0024917184690256278,\n",
              " 0.0024917184690256278,\n",
              " -0.021887501477624083]"
            ]
          },
          "metadata": {
            "tags": []
          },
          "execution_count": 13
        }
      ]
    },
    {
      "cell_type": "code",
      "metadata": {
        "id": "hGtR58hFcP9X"
      },
      "source": [
        "#roe relative price \n",
        "# x_input = relative_price.drop(['change','change_label'],axis = 1).values\n",
        "\n",
        "\n",
        "# # x_input= min_max_scaler.fit_transform(x_input)\n",
        "# x_input=x_input.tolist()\n",
        "\n",
        "# x_label=relative_price['change_label'].values\n",
        "# x_label=x_label.reshape(-1,).tolist()\n",
        "# #try to encode label \n",
        "# x_label = [1 if x else 0 for x in x_label]"
      ],
      "execution_count": null,
      "outputs": []
    },
    {
      "cell_type": "code",
      "metadata": {
        "id": "2bpmrO8vI0Cy",
        "colab": {
          "base_uri": "https://localhost:8080/"
        },
        "outputId": "9ab1b322-db25-4897-b5b6-0e9fac941b77"
      },
      "source": [
        "x_input[0],x_label[0]"
      ],
      "execution_count": 14,
      "outputs": [
        {
          "output_type": "execute_result",
          "data": {
            "text/plain": [
              "([-0.019835497362194032,\n",
              "  -0.01434302849500968,\n",
              "  -0.0013948538523216314,\n",
              "  0.0024917184690256278,\n",
              "  0.0024917184690256278,\n",
              "  -0.021887501477624083],\n",
              " 0)"
            ]
          },
          "metadata": {
            "tags": []
          },
          "execution_count": 14
        }
      ]
    },
    {
      "cell_type": "code",
      "metadata": {
        "id": "TWjvf91FJDYV",
        "colab": {
          "base_uri": "https://localhost:8080/"
        },
        "outputId": "27f2d481-5e3a-477d-806c-e505e4d4f613"
      },
      "source": [
        "def process(data, window_size):\n",
        "    output = []\n",
        "    for i in range(window_size-1, len(data)):\n",
        "        raw_data = data[i-window_size+1:i+1]\n",
        "        output.append(raw_data)\n",
        "    return output\n",
        "\n",
        "window_size = 10\n",
        "x_processed = process(x_input, 10)\n",
        "split = round(len(x_processed)*0.7)\n",
        "x_train = x_processed[:split]\n",
        "x_eval = x_processed[split:]\n",
        "x_train = torch.tensor(x_train, dtype=torch.float)\n",
        "x_lab = torch.tensor(x_label[window_size-1:window_size-1+split],dtype=torch.float)\n",
        "\n",
        "\n",
        "x_eval = torch.tensor(x_eval, dtype=torch.float)\n",
        "x_lab_eval = torch.tensor(x_label[window_size-1+split:],dtype=torch.float)\n",
        "\n",
        "print(x_train.size())\n",
        "print(x_lab.size())\n",
        "print(x_train[0])\n",
        "print(x_label[0])\n",
        "print(x_train.type())\n",
        "print(x_lab.type())\n",
        "print(x_eval.size())\n",
        "print(x_lab_eval.size())"
      ],
      "execution_count": 15,
      "outputs": [
        {
          "output_type": "stream",
          "text": [
            "torch.Size([1270, 10, 6])\n",
            "torch.Size([1270])\n",
            "tensor([[-1.9835e-02, -1.4343e-02, -1.3949e-03,  2.4917e-03,  2.4917e-03,\n",
            "         -2.1888e-02],\n",
            "        [ 2.4421e-03, -2.1815e-03, -1.0359e-01, -1.0777e-01, -1.0777e-01,\n",
            "          3.2050e+00],\n",
            "        [-1.0704e-01, -8.8593e-02, -8.3499e-02, -6.0079e-02, -6.0079e-02,\n",
            "          6.8296e-01],\n",
            "        [-5.7130e-02, -3.0947e-02,  2.9005e-02,  3.8907e-02,  3.8907e-02,\n",
            "         -2.0972e-01],\n",
            "        [ 3.5939e-02,  3.3096e-02,  2.8715e-02,  4.2682e-02,  4.2682e-02,\n",
            "         -4.7124e-01],\n",
            "        [ 4.1754e-02,  3.8953e-02,  3.8075e-02,  2.8471e-02,  2.8471e-02,\n",
            "          6.9738e-02],\n",
            "        [ 2.8167e-02, -1.5461e-02, -3.1935e-03, -3.7331e-02, -3.7331e-02,\n",
            "         -1.9642e-01],\n",
            "        [-3.9954e-02, -1.0271e-02, -5.8191e-03,  2.4913e-02,  2.4913e-02,\n",
            "         -6.3250e-02],\n",
            "        [ 1.7423e-02, -1.0261e-02, -2.3409e-02, -5.3759e-02, -5.3759e-02,\n",
            "         -1.8454e-01],\n",
            "        [-4.4187e-02, -2.9463e-02, -3.2584e-02, -3.3246e-02, -3.3246e-02,\n",
            "          1.9238e-01]])\n",
            "0\n",
            "torch.FloatTensor\n",
            "torch.FloatTensor\n",
            "torch.Size([545, 10, 6])\n",
            "torch.Size([545])\n"
          ],
          "name": "stdout"
        }
      ]
    },
    {
      "cell_type": "markdown",
      "metadata": {
        "id": "xAFTd8rWLKHt"
      },
      "source": [
        "# Prepare the Model"
      ]
    },
    {
      "cell_type": "code",
      "metadata": {
        "id": "DpREgH9sLMXl"
      },
      "source": [
        "train_data = x_train\n",
        "train_label = x_lab\n",
        "\n",
        "eval_data = x_eval\n",
        "#print(test_data.size())\n",
        "eval_label = x_lab_eval\n",
        "#print(test_label)\n",
        "\n",
        "# batching  data\n",
        "batch_size = 64\n",
        "train_data = TensorDataset(train_data, train_label)\n",
        "train_loader = DataLoader(train_data, batch_size)\n",
        "train_batches = [batch for batch in train_loader]\n",
        "\n",
        "eval_data = TensorDataset(eval_data, eval_label)\n",
        "eval_loader = DataLoader(eval_data, batch_size) \n",
        "eval_batches = [batch for batch in eval_loader]"
      ],
      "execution_count": 16,
      "outputs": []
    },
    {
      "cell_type": "code",
      "metadata": {
        "id": "PSfqkcKTMgky"
      },
      "source": [
        "class OurModel(nn.Module):\n",
        "    def __init__(self, input_size,  hidden_size, num_layers):\n",
        "        super(OurModel, self).__init__()\n",
        "        num_layers = num_layers\n",
        "        self.input_size = input_size\n",
        "        self.hidden_size = hidden_size\n",
        "        self.lstm = nn.LSTM(self.input_size, self.hidden_size, num_layers, batch_first=True, bidirectional=False, dropout=0.5)\n",
        "        self.ff = nn.Linear(self.hidden_size, 1)\n",
        "        self.dropout = nn.Dropout()\n",
        "\n",
        "        #need to change the loss function. \n",
        "    def forward(self, input):\n",
        "        output, (hn, cn) = self.lstm(input)\n",
        "        hn = self.dropout(hn[-1,:,:])\n",
        "        percent_change = self.ff(hn)\n",
        "        return percent_change\n",
        "\n",
        "\n",
        "        "
      ],
      "execution_count": 17,
      "outputs": []
    },
    {
      "cell_type": "code",
      "metadata": {
        "id": "J2JZAdtvR69O"
      },
      "source": [
        "#define model,\n",
        "\n",
        "model = OurModel(6, 512, 2)\n",
        "\n",
        "# for i in range(30):\n",
        "#     for step, batch in enumerate(train_batches):\n",
        "#         optimizer.step()\n",
        "#         model.zero_grad()\n",
        "        \n",
        "#         data, label = tuple(t for t in batch)\n",
        "#         model.train()\n",
        "#         loss = model(data, label)\n",
        "#         loss.backward()\n",
        "\n",
        "#     model.eval()\n",
        "#     output = evaluation(test_loader, model)\n",
        "#     print('prediction:', output)\n",
        "#     print(loss)"
      ],
      "execution_count": 18,
      "outputs": []
    },
    {
      "cell_type": "code",
      "metadata": {
        "id": "GRitBVF2tCVD"
      },
      "source": [
        "#define optimizer, loss function\n",
        "params = model.parameters()\n",
        "optimizer = optim.Adam(params)\n",
        "criterion = nn.BCEWithLogitsLoss()"
      ],
      "execution_count": 19,
      "outputs": []
    },
    {
      "cell_type": "code",
      "metadata": {
        "colab": {
          "base_uri": "https://localhost:8080/"
        },
        "id": "HzMyaJ0bsksz",
        "outputId": "3edb1214-cd59-4ae5-8afa-c740a8cd979f"
      },
      "source": [
        "#Move model to device\n",
        "device = torch.device('cuda' if torch.cuda.is_available() else 'cpu')\n",
        "model = model.to(device)\n",
        "criterion = criterion.to(device)\n",
        "\n",
        "print (device)"
      ],
      "execution_count": 20,
      "outputs": [
        {
          "output_type": "stream",
          "text": [
            "cuda\n"
          ],
          "name": "stdout"
        }
      ]
    },
    {
      "cell_type": "code",
      "metadata": {
        "colab": {
          "base_uri": "https://localhost:8080/"
        },
        "id": "6LQy1RUJr4Lm",
        "outputId": "06707425-463d-425c-c44a-3d37425a0f56"
      },
      "source": [
        "#check number of parameters. \n",
        "def count_parameters(model):\n",
        "    return sum(p.numel() for p in model.parameters() if p.requires_grad)\n",
        "\n",
        "print(f'The model has {count_parameters(model):,} trainable parameters')"
      ],
      "execution_count": 21,
      "outputs": [
        {
          "output_type": "stream",
          "text": [
            "The model has 3,166,721 trainable parameters\n"
          ],
          "name": "stdout"
        }
      ]
    },
    {
      "cell_type": "code",
      "metadata": {
        "id": "cNsy3zuvSFqo"
      },
      "source": [
        "def binary_accuracy(preds, y):\n",
        "    \"\"\"\n",
        "    Returns accuracy per batch, i.e. if you get 8/10 right, this returns 0.8, NOT 8\n",
        "    \"\"\"\n",
        "\n",
        "    #round predictions to the closest integer\n",
        "    rounded_preds = torch.round(torch.sigmoid(preds))\n",
        "    correct = (rounded_preds == y).float() #convert into float for division \n",
        "    acc = correct.sum() / len(correct)\n",
        "    return acc"
      ],
      "execution_count": 22,
      "outputs": []
    },
    {
      "cell_type": "code",
      "metadata": {
        "id": "zi0CHIDNT-X3"
      },
      "source": [
        "#here, let's try to define a function to get the confusion matrix stats\n",
        "\n"
      ],
      "execution_count": 23,
      "outputs": []
    },
    {
      "cell_type": "code",
      "metadata": {
        "id": "Ps2oeWfXmVF4"
      },
      "source": [
        "def train(model, train_batches, optimizer, criterion):\n",
        "    \n",
        "    epoch_loss = 0\n",
        "    epoch_acc = 0\n",
        "    \n",
        "    model.train()\n",
        "\n",
        "    for step, batch in enumerate(train_batches):\n",
        "        \n",
        "        optimizer.zero_grad()\n",
        "        \n",
        "        data, label = tuple(t for t in batch)\n",
        "\n",
        "        data = data.to(device)\n",
        "        label = label.to(device)\n",
        "\n",
        "        predictions = model(data).squeeze(1)\n",
        "\n",
        "        loss = criterion(predictions, label)\n",
        "        \n",
        "        acc = binary_accuracy(predictions, label)\n",
        "        \n",
        "        loss.backward()\n",
        "        \n",
        "        optimizer.step()\n",
        "        \n",
        "        epoch_loss += loss.item()\n",
        "        epoch_acc += acc.item()\n",
        "        \n",
        "    return epoch_loss / len(train_batches), epoch_acc / len(train_batches)"
      ],
      "execution_count": 24,
      "outputs": []
    },
    {
      "cell_type": "code",
      "metadata": {
        "id": "B-5ik76v7st1"
      },
      "source": [
        "def evaluate(model, eval_batches, criterion):\n",
        "    \n",
        "    epoch_loss = 0\n",
        "    epoch_acc = 0\n",
        "    \n",
        "    model.eval()\n",
        "    \n",
        "    with torch.no_grad():\n",
        "    \n",
        "        for step, batch in enumerate(eval_batches):\n",
        "\n",
        "            data, label = tuple(t for t in batch)\n",
        "            data = data.to(device)\n",
        "            label = label.to(device)\n",
        "            \n",
        "            predictions = model(data).squeeze(1)\n",
        "            \n",
        "            loss = criterion(predictions, label)\n",
        "            \n",
        "            acc = binary_accuracy(predictions, label)\n",
        "\n",
        "            epoch_loss += loss.item()\n",
        "            epoch_acc += acc.item()\n",
        "        \n",
        "    return epoch_loss / len(eval_batches), epoch_acc / len(eval_batches)"
      ],
      "execution_count": 25,
      "outputs": []
    },
    {
      "cell_type": "code",
      "metadata": {
        "id": "OjDUGdyMmVvi",
        "colab": {
          "base_uri": "https://localhost:8080/"
        },
        "outputId": "2ff67a2a-249f-4a2b-d59c-06e87824ad1d"
      },
      "source": [
        "import time\n",
        "\n",
        "def epoch_time(start_time, end_time):\n",
        "    elapsed_time = end_time - start_time\n",
        "    elapsed_mins = int(elapsed_time / 60)\n",
        "    elapsed_secs = int(elapsed_time - (elapsed_mins * 60))\n",
        "    return elapsed_mins, elapsed_secs\n",
        "\n",
        "N_EPOCHS = 10\n",
        "\n",
        "best_valid_loss = float('inf')\n",
        "\n",
        "for epoch in range(N_EPOCHS):\n",
        "\n",
        "    start_time = time.time()\n",
        "    \n",
        "    train_loss, train_acc = train(model, train_batches, optimizer, criterion)\n",
        "    valid_loss, valid_acc = evaluate(model, eval_batches, criterion)\n",
        "    \n",
        "    end_time = time.time()\n",
        "\n",
        "    epoch_mins, epoch_secs = epoch_time(start_time, end_time)\n",
        "    \n",
        "    # if valid_loss < best_valid_loss:\n",
        "    #     best_valid_loss = valid_loss\n",
        "    #     torch.save(model.state_dict(), 'tut2-model.pt')\n",
        "    \n",
        "    print(f'Epoch: {epoch+1:02} | Epoch Time: {epoch_mins}m {epoch_secs}s')\n",
        "    print(f'\\tTrain Loss: {train_loss:.3f} | Train Acc: {train_acc*100:.2f}%')\n",
        "    print(f'\\t Val. Loss: {valid_loss:.3f} |  Val. Acc: {valid_acc*100:.2f}%')"
      ],
      "execution_count": 26,
      "outputs": [
        {
          "output_type": "stream",
          "text": [
            "Epoch: 01 | Epoch Time: 0m 0s\n",
            "\tTrain Loss: 0.688 | Train Acc: 54.62%\n",
            "\t Val. Loss: 0.695 |  Val. Acc: 51.07%\n",
            "Epoch: 02 | Epoch Time: 0m 0s\n",
            "\tTrain Loss: 0.691 | Train Acc: 56.26%\n",
            "\t Val. Loss: 0.696 |  Val. Acc: 51.07%\n",
            "Epoch: 03 | Epoch Time: 0m 0s\n",
            "\tTrain Loss: 0.687 | Train Acc: 56.26%\n",
            "\t Val. Loss: 0.704 |  Val. Acc: 51.07%\n",
            "Epoch: 04 | Epoch Time: 0m 0s\n",
            "\tTrain Loss: 0.688 | Train Acc: 56.26%\n",
            "\t Val. Loss: 0.695 |  Val. Acc: 51.07%\n",
            "Epoch: 05 | Epoch Time: 0m 0s\n",
            "\tTrain Loss: 0.687 | Train Acc: 56.26%\n",
            "\t Val. Loss: 0.702 |  Val. Acc: 51.07%\n",
            "Epoch: 06 | Epoch Time: 0m 0s\n",
            "\tTrain Loss: 0.688 | Train Acc: 56.26%\n",
            "\t Val. Loss: 0.697 |  Val. Acc: 51.07%\n",
            "Epoch: 07 | Epoch Time: 0m 0s\n",
            "\tTrain Loss: 0.686 | Train Acc: 56.26%\n",
            "\t Val. Loss: 0.700 |  Val. Acc: 51.07%\n",
            "Epoch: 08 | Epoch Time: 0m 0s\n",
            "\tTrain Loss: 0.687 | Train Acc: 56.26%\n",
            "\t Val. Loss: 0.699 |  Val. Acc: 51.07%\n",
            "Epoch: 09 | Epoch Time: 0m 0s\n",
            "\tTrain Loss: 0.687 | Train Acc: 56.26%\n",
            "\t Val. Loss: 0.699 |  Val. Acc: 51.07%\n",
            "Epoch: 10 | Epoch Time: 0m 0s\n",
            "\tTrain Loss: 0.686 | Train Acc: 56.26%\n",
            "\t Val. Loss: 0.700 |  Val. Acc: 51.07%\n"
          ],
          "name": "stdout"
        }
      ]
    },
    {
      "cell_type": "code",
      "metadata": {
        "id": "B_Cy6CcDmhme"
      },
      "source": [
        "predlist=torch.zeros(0,dtype=torch.long, device='cpu')\n",
        "lbllist=torch.zeros(0,dtype=torch.long, device='cpu')\n",
        "\n",
        "with torch.no_grad():\n",
        "  for step, batch in enumerate(eval_batches):\n",
        "    data, label = (t for t in batch)\n",
        "    data = data.to(device)\n",
        "    label = label.to(device)\n",
        "    predictions = model(data).squeeze(1)\n",
        "    predictions = torch.sigmoid(predictions)\n",
        "    predictions = torch.round(predictions)\n",
        "\n",
        "    predlist=torch.cat([predlist,predictions.view(-1).cpu()])\n",
        "    lbllist=torch.cat([lbllist,label.view(-1).cpu()])\n"
      ],
      "execution_count": 28,
      "outputs": []
    },
    {
      "cell_type": "code",
      "metadata": {
        "colab": {
          "base_uri": "https://localhost:8080/"
        },
        "id": "BK4i4cSNZ7W6",
        "outputId": "683e7aa7-8ed1-4b08-b9c0-b11b1dfadea4"
      },
      "source": [
        "conf_mat=confusion_matrix(lbllist.numpy(), predlist.numpy())\n",
        "print(conf_mat)\n"
      ],
      "execution_count": 29,
      "outputs": [
        {
          "output_type": "stream",
          "text": [
            "[[  0 264]\n",
            " [  0 281]]\n"
          ],
          "name": "stdout"
        }
      ]
    },
    {
      "cell_type": "code",
      "metadata": {
        "colab": {
          "base_uri": "https://localhost:8080/"
        },
        "id": "0tRocEZ4bQyt",
        "outputId": "1aa96630-5d59-444c-e1aa-d0945a0c5ea9"
      },
      "source": [
        "predlist"
      ],
      "execution_count": 30,
      "outputs": [
        {
          "output_type": "execute_result",
          "data": {
            "text/plain": [
              "tensor([1., 1., 1., 1., 1., 1., 1., 1., 1., 1., 1., 1., 1., 1., 1., 1., 1., 1.,\n",
              "        1., 1., 1., 1., 1., 1., 1., 1., 1., 1., 1., 1., 1., 1., 1., 1., 1., 1.,\n",
              "        1., 1., 1., 1., 1., 1., 1., 1., 1., 1., 1., 1., 1., 1., 1., 1., 1., 1.,\n",
              "        1., 1., 1., 1., 1., 1., 1., 1., 1., 1., 1., 1., 1., 1., 1., 1., 1., 1.,\n",
              "        1., 1., 1., 1., 1., 1., 1., 1., 1., 1., 1., 1., 1., 1., 1., 1., 1., 1.,\n",
              "        1., 1., 1., 1., 1., 1., 1., 1., 1., 1., 1., 1., 1., 1., 1., 1., 1., 1.,\n",
              "        1., 1., 1., 1., 1., 1., 1., 1., 1., 1., 1., 1., 1., 1., 1., 1., 1., 1.,\n",
              "        1., 1., 1., 1., 1., 1., 1., 1., 1., 1., 1., 1., 1., 1., 1., 1., 1., 1.,\n",
              "        1., 1., 1., 1., 1., 1., 1., 1., 1., 1., 1., 1., 1., 1., 1., 1., 1., 1.,\n",
              "        1., 1., 1., 1., 1., 1., 1., 1., 1., 1., 1., 1., 1., 1., 1., 1., 1., 1.,\n",
              "        1., 1., 1., 1., 1., 1., 1., 1., 1., 1., 1., 1., 1., 1., 1., 1., 1., 1.,\n",
              "        1., 1., 1., 1., 1., 1., 1., 1., 1., 1., 1., 1., 1., 1., 1., 1., 1., 1.,\n",
              "        1., 1., 1., 1., 1., 1., 1., 1., 1., 1., 1., 1., 1., 1., 1., 1., 1., 1.,\n",
              "        1., 1., 1., 1., 1., 1., 1., 1., 1., 1., 1., 1., 1., 1., 1., 1., 1., 1.,\n",
              "        1., 1., 1., 1., 1., 1., 1., 1., 1., 1., 1., 1., 1., 1., 1., 1., 1., 1.,\n",
              "        1., 1., 1., 1., 1., 1., 1., 1., 1., 1., 1., 1., 1., 1., 1., 1., 1., 1.,\n",
              "        1., 1., 1., 1., 1., 1., 1., 1., 1., 1., 1., 1., 1., 1., 1., 1., 1., 1.,\n",
              "        1., 1., 1., 1., 1., 1., 1., 1., 1., 1., 1., 1., 1., 1., 1., 1., 1., 1.,\n",
              "        1., 1., 1., 1., 1., 1., 1., 1., 1., 1., 1., 1., 1., 1., 1., 1., 1., 1.,\n",
              "        1., 1., 1., 1., 1., 1., 1., 1., 1., 1., 1., 1., 1., 1., 1., 1., 1., 1.,\n",
              "        1., 1., 1., 1., 1., 1., 1., 1., 1., 1., 1., 1., 1., 1., 1., 1., 1., 1.,\n",
              "        1., 1., 1., 1., 1., 1., 1., 1., 1., 1., 1., 1., 1., 1., 1., 1., 1., 1.,\n",
              "        1., 1., 1., 1., 1., 1., 1., 1., 1., 1., 1., 1., 1., 1., 1., 1., 1., 1.,\n",
              "        1., 1., 1., 1., 1., 1., 1., 1., 1., 1., 1., 1., 1., 1., 1., 1., 1., 1.,\n",
              "        1., 1., 1., 1., 1., 1., 1., 1., 1., 1., 1., 1., 1., 1., 1., 1., 1., 1.,\n",
              "        1., 1., 1., 1., 1., 1., 1., 1., 1., 1., 1., 1., 1., 1., 1., 1., 1., 1.,\n",
              "        1., 1., 1., 1., 1., 1., 1., 1., 1., 1., 1., 1., 1., 1., 1., 1., 1., 1.,\n",
              "        1., 1., 1., 1., 1., 1., 1., 1., 1., 1., 1., 1., 1., 1., 1., 1., 1., 1.,\n",
              "        1., 1., 1., 1., 1., 1., 1., 1., 1., 1., 1., 1., 1., 1., 1., 1., 1., 1.,\n",
              "        1., 1., 1., 1., 1., 1., 1., 1., 1., 1., 1., 1., 1., 1., 1., 1., 1., 1.,\n",
              "        1., 1., 1., 1., 1.])"
            ]
          },
          "metadata": {
            "tags": []
          },
          "execution_count": 30
        }
      ]
    },
    {
      "cell_type": "code",
      "metadata": {
        "colab": {
          "base_uri": "https://localhost:8080/"
        },
        "id": "xKwO7VUYbZPB",
        "outputId": "7d399e83-70c4-4b7d-ff29-3cecaa2a6f54"
      },
      "source": [
        "lbllist"
      ],
      "execution_count": 31,
      "outputs": [
        {
          "output_type": "execute_result",
          "data": {
            "text/plain": [
              "tensor([1., 1., 1., 0., 0., 0., 1., 0., 1., 1., 1., 1., 1., 1., 1., 0., 1., 0.,\n",
              "        1., 1., 0., 0., 1., 1., 1., 0., 0., 0., 0., 0., 0., 1., 0., 0., 0., 1.,\n",
              "        0., 1., 1., 0., 0., 1., 1., 1., 0., 1., 0., 1., 0., 1., 1., 1., 0., 1.,\n",
              "        1., 0., 0., 1., 1., 1., 0., 1., 0., 0., 0., 0., 1., 1., 0., 1., 1., 0.,\n",
              "        1., 0., 0., 1., 1., 1., 1., 0., 0., 0., 0., 1., 1., 0., 0., 1., 0., 0.,\n",
              "        0., 1., 1., 0., 1., 1., 0., 0., 0., 1., 1., 1., 1., 0., 0., 0., 0., 1.,\n",
              "        0., 1., 0., 1., 0., 0., 1., 1., 0., 1., 0., 1., 1., 0., 1., 1., 1., 1.,\n",
              "        0., 0., 1., 1., 0., 0., 0., 0., 0., 0., 1., 0., 0., 1., 0., 0., 0., 1.,\n",
              "        0., 1., 1., 1., 0., 1., 0., 0., 1., 0., 0., 0., 1., 1., 0., 0., 1., 0.,\n",
              "        0., 0., 1., 1., 1., 1., 1., 0., 1., 0., 1., 0., 1., 0., 1., 0., 1., 0.,\n",
              "        1., 1., 0., 1., 0., 1., 0., 1., 1., 0., 1., 0., 0., 1., 0., 1., 1., 0.,\n",
              "        1., 0., 0., 1., 0., 1., 0., 1., 0., 0., 0., 1., 0., 1., 1., 0., 0., 1.,\n",
              "        0., 0., 1., 1., 1., 0., 1., 0., 0., 1., 1., 1., 1., 1., 1., 0., 1., 1.,\n",
              "        0., 1., 0., 0., 1., 1., 1., 0., 0., 1., 1., 1., 0., 1., 0., 0., 1., 0.,\n",
              "        1., 1., 1., 0., 1., 1., 1., 0., 0., 1., 0., 0., 1., 1., 0., 1., 1., 0.,\n",
              "        1., 1., 1., 0., 1., 1., 1., 1., 0., 1., 0., 1., 1., 1., 0., 1., 1., 1.,\n",
              "        1., 1., 0., 1., 1., 0., 0., 1., 0., 1., 0., 1., 1., 1., 1., 1., 0., 0.,\n",
              "        1., 1., 1., 1., 1., 0., 1., 1., 1., 0., 0., 0., 1., 0., 0., 0., 1., 1.,\n",
              "        1., 1., 1., 0., 0., 0., 1., 0., 1., 0., 0., 1., 0., 1., 0., 0., 1., 0.,\n",
              "        1., 1., 1., 1., 1., 1., 0., 1., 1., 1., 1., 1., 1., 1., 1., 0., 1., 0.,\n",
              "        0., 0., 1., 1., 0., 0., 1., 1., 1., 1., 0., 0., 1., 0., 0., 1., 0., 1.,\n",
              "        1., 0., 1., 0., 0., 0., 0., 1., 0., 0., 1., 0., 1., 1., 1., 1., 1., 1.,\n",
              "        1., 0., 1., 1., 0., 0., 1., 0., 0., 0., 1., 1., 0., 1., 1., 0., 0., 0.,\n",
              "        1., 0., 0., 1., 0., 0., 0., 1., 1., 1., 1., 1., 0., 0., 0., 1., 0., 0.,\n",
              "        0., 1., 1., 0., 0., 0., 0., 0., 0., 1., 0., 0., 1., 0., 0., 0., 0., 1.,\n",
              "        0., 0., 1., 1., 1., 0., 0., 0., 0., 1., 0., 1., 0., 0., 1., 0., 1., 0.,\n",
              "        0., 1., 0., 1., 1., 1., 0., 0., 0., 1., 1., 1., 0., 1., 0., 0., 1., 1.,\n",
              "        0., 1., 0., 1., 0., 0., 1., 1., 0., 1., 0., 0., 0., 1., 1., 0., 0., 0.,\n",
              "        0., 0., 1., 0., 1., 1., 1., 0., 1., 0., 0., 0., 0., 0., 1., 1., 1., 1.,\n",
              "        0., 0., 0., 1., 1., 0., 1., 0., 0., 1., 0., 1., 0., 1., 0., 0., 0., 0.,\n",
              "        1., 1., 1., 0., 0.])"
            ]
          },
          "metadata": {
            "tags": []
          },
          "execution_count": 31
        }
      ]
    },
    {
      "cell_type": "code",
      "metadata": {
        "id": "8ghtRiEec9Z0"
      },
      "source": [
        ""
      ],
      "execution_count": 31,
      "outputs": []
    }
  ]
}